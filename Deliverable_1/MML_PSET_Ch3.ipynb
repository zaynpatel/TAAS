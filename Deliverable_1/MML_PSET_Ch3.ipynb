{
 "cells": [
  {
   "cell_type": "markdown",
   "id": "b968fec9",
   "metadata": {},
   "source": [
    "### Figuring out what's happening in example 3.11 (computation)"
   ]
  },
  {
   "cell_type": "code",
   "execution_count": 1,
   "id": "4a1fc6e3",
   "metadata": {},
   "outputs": [],
   "source": [
    "import numpy as np\n",
    "import sympy as sp"
   ]
  },
  {
   "cell_type": "markdown",
   "id": "0131b634",
   "metadata": {},
   "source": [
    "First I check if U is linearly independent. After rref I see it has two pivots in its columns so this is linearly independent. "
   ]
  },
  {
   "cell_type": "code",
   "execution_count": 2,
   "id": "d0e48ca5",
   "metadata": {},
   "outputs": [],
   "source": [
    "B = np.array([[1, 0],\n",
    "              [1, 1],\n",
    "              [1, 2]])"
   ]
  },
  {
   "cell_type": "code",
   "execution_count": 3,
   "id": "cbfa0b95",
   "metadata": {},
   "outputs": [],
   "source": [
    "x = np.array([[6],\n",
    "              [0],\n",
    "              [0]])"
   ]
  },
  {
   "cell_type": "markdown",
   "id": "aebfc3a3",
   "metadata": {},
   "source": [
    "We use the equation from the text to find the matrices that help us find lambda."
   ]
  },
  {
   "cell_type": "code",
   "execution_count": 4,
   "id": "357e8818",
   "metadata": {},
   "outputs": [
    {
     "data": {
      "text/plain": [
       "array([[3, 3],\n",
       "       [3, 5]])"
      ]
     },
     "execution_count": 4,
     "metadata": {},
     "output_type": "execute_result"
    }
   ],
   "source": [
    "B_T_B = np.matmul(np.transpose(B), B)\n",
    "B_T_x = np.matmul(np.transpose(B), x)\n",
    "\n",
    "\n",
    "B_T_B"
   ]
  },
  {
   "cell_type": "code",
   "execution_count": 5,
   "id": "efc1c20d",
   "metadata": {},
   "outputs": [
    {
     "data": {
      "text/plain": [
       "array([[ 5.],\n",
       "       [ 2.],\n",
       "       [-1.]])"
      ]
     },
     "execution_count": 5,
     "metadata": {},
     "output_type": "execute_result"
    }
   ],
   "source": [
    "B_T_B_inv = np.linalg.inv(B_T_B)\n",
    "\n",
    "\n",
    "\n",
    "lam = np.matmul(B_T_B_inv, B_T_x)\n",
    "mu = np.matmul(B, lam)\n",
    "mu"
   ]
  },
  {
   "cell_type": "code",
   "execution_count": 6,
   "id": "4691ec8a",
   "metadata": {},
   "outputs": [
    {
     "name": "stdout",
     "output_type": "stream",
     "text": [
      "(Matrix([\n",
      "[1, 0, 0, 1],\n",
      "[0, 1, 0, 2],\n",
      "[0, 0, 1, 1],\n",
      "[0, 0, 0, 0],\n",
      "[0, 0, 0, 0]]), (0, 1, 2))\n"
     ]
    }
   ],
   "source": [
    "U = sp.Matrix([[0, 1, -3, -1],\n",
    "              [-1, -3, 4, -3],\n",
    "              [2, 1, 1, 5],\n",
    "              [0, -1, 2, 0],\n",
    "              [2, 2, 1, 7]])\n",
    "\n",
    "print(U.rref())"
   ]
  },
  {
   "cell_type": "code",
   "execution_count": 7,
   "id": "ed973c70",
   "metadata": {},
   "outputs": [
    {
     "name": "stdout",
     "output_type": "stream",
     "text": [
      "(Matrix([\n",
      "[1, 0, 0],\n",
      "[0, 1, 0],\n",
      "[0, 0, 1],\n",
      "[0, 0, 0],\n",
      "[0, 0, 0]]), (0, 1, 2))\n"
     ]
    }
   ],
   "source": [
    "U = sp.Matrix([[0, 1, -3],\n",
    "              [-1, -3, 4],\n",
    "              [2, 1, 1],\n",
    "              [0, -1, 2],\n",
    "              [2, 2, 1]])\n",
    "\n",
    "print(U.rref())"
   ]
  },
  {
   "cell_type": "code",
   "execution_count": 8,
   "id": "b00dbbf0",
   "metadata": {},
   "outputs": [],
   "source": [
    "U = np.array([[0, 1, -3],\n",
    "              [-1, -3, 4],\n",
    "              [2, 1, 1],\n",
    "              [0, -1, 2],\n",
    "              [2, 2, 1]])"
   ]
  },
  {
   "cell_type": "code",
   "execution_count": 9,
   "id": "3254de48",
   "metadata": {},
   "outputs": [],
   "source": [
    "x = np.array([[-1],\n",
    "             [-9],\n",
    "             [-1],\n",
    "             [4],\n",
    "             [1]])"
   ]
  },
  {
   "cell_type": "code",
   "execution_count": 10,
   "id": "c00ef5dc",
   "metadata": {},
   "outputs": [
    {
     "data": {
      "text/plain": [
       "array([[  9,   9,   0],\n",
       "       [  9,  16, -14],\n",
       "       [  0, -14,  31]])"
      ]
     },
     "execution_count": 10,
     "metadata": {},
     "output_type": "execute_result"
    }
   ],
   "source": [
    "U_T_U = np.matmul(np.transpose(U), U)\n",
    "U_T_x = np.matmul(np.transpose(U), x)\n",
    "\n",
    "U_T_U"
   ]
  },
  {
   "cell_type": "code",
   "execution_count": 11,
   "id": "4c2b00be",
   "metadata": {},
   "outputs": [
    {
     "data": {
      "text/plain": [
       "array([[-3.],\n",
       "       [ 4.],\n",
       "       [ 1.]])"
      ]
     },
     "execution_count": 11,
     "metadata": {},
     "output_type": "execute_result"
    }
   ],
   "source": [
    "# Correct\n",
    "\n",
    "U_T_U_inv = np.linalg.inv(U_T_U)\n",
    "\n",
    "lamb = np.matmul(U_T_U_inv, U_T_x)\n",
    "lamb"
   ]
  },
  {
   "cell_type": "code",
   "execution_count": 12,
   "id": "221248fe",
   "metadata": {},
   "outputs": [
    {
     "data": {
      "text/plain": [
       "array([[ 1.],\n",
       "       [-5.],\n",
       "       [-1.],\n",
       "       [-2.],\n",
       "       [ 3.]])"
      ]
     },
     "execution_count": 12,
     "metadata": {},
     "output_type": "execute_result"
    }
   ],
   "source": [
    "# Correct\n",
    "\n",
    "mu_x = np.matmul(U, lamb)\n",
    "mu_x"
   ]
  },
  {
   "cell_type": "code",
   "execution_count": 44,
   "id": "eb34f35c",
   "metadata": {
    "scrolled": true
   },
   "outputs": [
    {
     "data": {
      "text/plain": [
       "array([[ 4.76190476e-01, -2.85714286e-01,  1.90476190e-01,\n",
       "        -1.42857143e-01, -3.33333333e-01],\n",
       "       [-2.85714286e-01,  6.82539683e-01,  6.34920635e-02,\n",
       "         2.85714286e-01, -2.22222222e-01],\n",
       "       [ 1.90476190e-01,  6.34920635e-02,  9.20634921e-01,\n",
       "         1.42857143e-01,  1.11111111e-01],\n",
       "       [-1.42857143e-01,  2.85714286e-01,  1.42857143e-01,\n",
       "         1.42857143e-01,  1.11022302e-16],\n",
       "       [-3.33333333e-01, -2.22222222e-01,  1.11111111e-01,\n",
       "         4.44089210e-16,  7.77777778e-01]])"
      ]
     },
     "execution_count": 44,
     "metadata": {},
     "output_type": "execute_result"
    }
   ],
   "source": [
    "# Calculate the projection matrix\n",
    "\n",
    "p = np.matmul(U, U_T_U_inv)\n",
    "P = np.matmul(p, np.transpose(U))\n",
    "P"
   ]
  },
  {
   "cell_type": "code",
   "execution_count": 36,
   "id": "3ad9f296",
   "metadata": {},
   "outputs": [
    {
     "data": {
      "text/plain": [
       "7.745966692414834"
      ]
     },
     "execution_count": 36,
     "metadata": {},
     "output_type": "execute_result"
    }
   ],
   "source": [
    "# Calculate the projection distance -- I think this means taking mu_x sum of squares\n",
    "# Correct (My original thought: distance between vector and the subspaces -- so we want the projection error)\n",
    "\n",
    "\n",
    "import math\n",
    "\n",
    "distance = x - mu_x\n",
    "# maybe this could be cleaned up with a lambda function or just move the math.sqrt() above\n",
    "calc_distance = sum([[i][0] * [i][0] for i in distance])\n",
    "sqrt_distance = math.sqrt(calc_distance)\n",
    "sqrt_distance"
   ]
  },
  {
   "cell_type": "code",
   "execution_count": 39,
   "id": "4069d886",
   "metadata": {},
   "outputs": [
    {
     "data": {
      "text/plain": [
       "(5, 1)"
      ]
     },
     "execution_count": 39,
     "metadata": {},
     "output_type": "execute_result"
    }
   ],
   "source": [
    "distance.shape"
   ]
  },
  {
   "cell_type": "code",
   "execution_count": 40,
   "id": "88bb2482",
   "metadata": {},
   "outputs": [
    {
     "data": {
      "text/plain": [
       "(5, 1)"
      ]
     },
     "execution_count": 40,
     "metadata": {},
     "output_type": "execute_result"
    }
   ],
   "source": [
    "mu_x.shape"
   ]
  },
  {
   "cell_type": "code",
   "execution_count": 43,
   "id": "678f4d03",
   "metadata": {},
   "outputs": [
    {
     "data": {
      "text/plain": [
       "array([[3.8191672e-14]])"
      ]
     },
     "execution_count": 43,
     "metadata": {},
     "output_type": "execute_result"
    }
   ],
   "source": [
    "# My confirmation: the projection is orthogonal to the error? \n",
    "\n",
    "test = np.dot(np.transpose(mu_x), distance)\n",
    "test"
   ]
  }
 ],
 "metadata": {
  "kernelspec": {
   "display_name": "Python 3 (ipykernel)",
   "language": "python",
   "name": "python3"
  },
  "language_info": {
   "codemirror_mode": {
    "name": "ipython",
    "version": 3
   },
   "file_extension": ".py",
   "mimetype": "text/x-python",
   "name": "python",
   "nbconvert_exporter": "python",
   "pygments_lexer": "ipython3",
   "version": "3.11.5"
  }
 },
 "nbformat": 4,
 "nbformat_minor": 5
}
