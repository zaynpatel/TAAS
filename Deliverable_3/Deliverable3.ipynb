{
 "cells": [
  {
   "cell_type": "code",
   "execution_count": 2,
   "id": "a0f9a1a9",
   "metadata": {},
   "outputs": [],
   "source": [
    "import numpy as np"
   ]
  },
  {
   "cell_type": "markdown",
   "id": "c83d2cb6",
   "metadata": {},
   "source": [
    "### Linear transformations as matrices\n",
    "\n",
    "> The goal of this section is to show students how to think about linear transformations as matrices and build up to a more abstract concept of **linear operators** which we will use in the matrix calculus section below.\n",
    "\n",
    "Thoughts on what to include:\n",
    "\n",
    "- Define what a linear map is and how this leads to the definition of linear.\n",
    "\n",
    "- Discuss the difference between [linear transformation and linear operator](https://math.stackexchange.com/questions/487933/what-is-the-difference-between-linear-transformation-and-linear-operator) in the context the audience will hear it in for matrix calculus\n",
    "\n",
    "- Show some very basic examples of an arbitrary linear map you defined from R^2 -> R^2\n",
    "\n",
    "- Then, give examples of transformations like rotations\n",
    "\n",
    "- Show more advanced examples of linear transformations (moving from different spaces. We have transformations for R^n -> R^m so show the more general/abstract way to think about this then give some examples of R^4 -> R^2 and **what condition may make this linear** and from R^3 -> R^5, etc. What other general things can we say about linearity between two different vector spaces of different dimensions? What can we say about linearity between two vector spaces of the same dimension?\n",
    "\n",
    "- Why does this motivate linear transformations as matrices? \n",
    "\n",
    "- How does this relate to matrix calculus?\n",
    "\n",
    "When we say something is [linear](https://en.wikipedia.org/wiki/Linearity) in linear algebra we mean it satisfies two properties:\n",
    "\n",
    "- Additivity: f(x + y) = f(x) + f(y)\n",
    "- Scalar multiplication: f($\\alpha$x) = $\\alpha$f(x) $\\forall$ $\\alpha$\n",
    "\n",
    "If I define a function f to be the following matrix:\n",
    "\n",
    "f = $\\begin{bmatrix}\n",
    "1 & 2 \\\\\n",
    "7 & 3\n",
    "\\end{bmatrix}$\n",
    "\n",
    "And I define two column vectors, x and y, to be:\n",
    "\n",
    "x = $\\begin{pmatrix} 1 \\\\ 4 \\end{pmatrix}$\n",
    "y = $\\begin{pmatrix} 2 \\\\ 5 \\end{pmatrix}$\n",
    "\n",
    "Then additivity tells me that doing f(x + y) = f(x) + f(y). We can confirm this is linear in numpy. (The reason this is linear is not because this is random but there's some property about these objects being in a vector space that is ...\n",
    "\n",
    "\n",
    "Also note: Here I am defining a function as a matrix. (I am doing this because we can think about this as a linear map from R^2 -> R^2 so we can define f: R^2 -> R^2. And we will see that we can define functions as matrices). \n",
    "\n",
    "**Notation in python: @ is the same thing as typing np.matmul(), * will be the element-wise product for vectors, + is the element-wise addition for vectors.**"
   ]
  },
  {
   "cell_type": "code",
   "execution_count": 19,
   "id": "2d4b7848",
   "metadata": {},
   "outputs": [
    {
     "name": "stdout",
     "output_type": "stream",
     "text": [
      "LHS: [[21]\n",
      " [48]]\n",
      "RHS: [[21]\n",
      " [48]]\n"
     ]
    }
   ],
   "source": [
    "# Check additivity\n",
    "\n",
    "f = np.array([[1, 2],\n",
    "             [7, 3]])\n",
    "\n",
    "x = np.array([[1], [4]])\n",
    "\n",
    "y = np.array([[2], [5]])\n",
    "\n",
    "# LHS of linearity\n",
    "LHS = f @ (x + y)\n",
    "print(f\"LHS: {LHS}\")\n",
    "\n",
    "# RHS of linearity\n",
    "RHS = (f @ x) + (f @ y)\n",
    "print(f\"RHS: {RHS}\")\n",
    "\n",
    "#assert LHS.all() == RHS.all()"
   ]
  },
  {
   "cell_type": "code",
   "execution_count": 29,
   "id": "e56f7a74",
   "metadata": {},
   "outputs": [
    {
     "name": "stdout",
     "output_type": "stream",
     "text": [
      "LHS: [[18]\n",
      " [38]]\n",
      "RHS: [[18]\n",
      " [38]]\n"
     ]
    }
   ],
   "source": [
    "# Check scalar multiplication (also called homogeniety of degree?)\n",
    "\n",
    "#alpha = 4\n",
    "\n",
    "# We can see the same thing for an arbitrary alpha value (just to show you there's nothing special about 4)\n",
    "alpha = np.random.randint(0, 10)\n",
    "\n",
    "LHS = f @ (alpha * x)\n",
    "RHS = alpha * (f @ x)\n",
    "\n",
    "print(f\"LHS: {LHS}\")\n",
    "print(f\"RHS: {RHS}\")"
   ]
  },
  {
   "cell_type": "markdown",
   "id": "3ec31ab5",
   "metadata": {},
   "source": [
    "### Show the matrix dot product is equal to tr(A^T* B)\n",
    "\n",
    "\n",
    "This confirms our intuition about the element-wise multiplication equaling the tr(A^T) * B.\n",
    "\n",
    "*Would be nice to explain more about the trace operator and some of the properties like cyclic property.* What is my hypothesis on why the trace operator appears so often. \n",
    "\n",
    "Look at this [link](https://math.stackexchange.com/questions/4453933/why-is-the-trace-of-a-matrix-important)."
   ]
  },
  {
   "cell_type": "code",
   "execution_count": 2,
   "id": "b5a8ce6f",
   "metadata": {},
   "outputs": [
    {
     "data": {
      "text/plain": [
       "array([[ 9, 32],\n",
       "       [ 8, 15]])"
      ]
     },
     "execution_count": 2,
     "metadata": {},
     "output_type": "execute_result"
    }
   ],
   "source": [
    "A = np.array([[3, 4],\n",
    "             [4, 5]])\n",
    "\n",
    "B = np.array([[3, 8],\n",
    "             [2, 3]])\n",
    "\n",
    "\n",
    "element_wise = A * B\n",
    "element_wise"
   ]
  },
  {
   "cell_type": "code",
   "execution_count": 3,
   "id": "5fc13abd",
   "metadata": {},
   "outputs": [
    {
     "data": {
      "text/plain": [
       "64"
      ]
     },
     "execution_count": 3,
     "metadata": {},
     "output_type": "execute_result"
    }
   ],
   "source": [
    "sums = 0\n",
    "for element in np.nditer(element_wise):\n",
    "    sums += element\n",
    "sums"
   ]
  },
  {
   "cell_type": "code",
   "execution_count": 4,
   "id": "51f040cf",
   "metadata": {},
   "outputs": [
    {
     "data": {
      "text/plain": [
       "64"
      ]
     },
     "execution_count": 4,
     "metadata": {},
     "output_type": "execute_result"
    }
   ],
   "source": [
    "AT = np.transpose(A)\n",
    "ATB = np.matmul(AT, B)\n",
    "\n",
    "\n",
    "traceAB = np.trace(ATB)\n",
    "traceAB"
   ]
  },
  {
   "cell_type": "code",
   "execution_count": 5,
   "id": "9f4b11a1",
   "metadata": {},
   "outputs": [
    {
     "data": {
      "text/plain": [
       "array([[ 51, 156],\n",
       "       [ 32,  18]])"
      ]
     },
     "execution_count": 5,
     "metadata": {},
     "output_type": "execute_result"
    }
   ],
   "source": [
    "dA = np.array([[3, 6],\n",
    "              [2, 1]])\n",
    "\n",
    "# m x n (2 x 2)\n",
    "x = np.array([[3, 4],\n",
    "             [4, 2]])\n",
    "\n",
    "# n x m (2x2)\n",
    "y = np.array([[3, 2],\n",
    "             [2, 5]])\n",
    "\n",
    "y_t = np.transpose(y)\n",
    "\n",
    "(x @ y_t) * dA"
   ]
  },
  {
   "cell_type": "code",
   "execution_count": 12,
   "id": "ae42b0a8",
   "metadata": {},
   "outputs": [
    {
     "data": {
      "text/plain": [
       "array([[ 95, 144],\n",
       "       [100, 162]])"
      ]
     },
     "execution_count": 12,
     "metadata": {},
     "output_type": "execute_result"
    }
   ],
   "source": [
    "### Check this\n",
    "\n",
    "\n",
    "x_t = np.transpose(x)\n",
    "\n",
    "df = x_t @ dA @ y\n",
    "df"
   ]
  },
  {
   "cell_type": "markdown",
   "id": "4da366f9",
   "metadata": {},
   "source": [
    "Weighted dot product with I"
   ]
  },
  {
   "cell_type": "code",
   "execution_count": 10,
   "id": "68731731",
   "metadata": {},
   "outputs": [
    {
     "data": {
      "text/plain": [
       "array([[17, 26],\n",
       "       [16, 18]])"
      ]
     },
     "execution_count": 10,
     "metadata": {},
     "output_type": "execute_result"
    }
   ],
   "source": [
    "I = np.identity(2)\n",
    "\n",
    "x_t @ y"
   ]
  },
  {
   "cell_type": "code",
   "execution_count": 11,
   "id": "f00d9eed",
   "metadata": {},
   "outputs": [
    {
     "data": {
      "text/plain": [
       "array([[17., 26.],\n",
       "       [16., 18.]])"
      ]
     },
     "execution_count": 11,
     "metadata": {},
     "output_type": "execute_result"
    }
   ],
   "source": [
    "# Yes, this weighting with I gives us the same answer\n",
    "\n",
    "x_t @ I @ y"
   ]
  },
  {
   "cell_type": "markdown",
   "id": "2a3293d3",
   "metadata": {},
   "source": [
    "### Explain the Jacobian matrix and determinant"
   ]
  },
  {
   "cell_type": "markdown",
   "id": "7730cbdd",
   "metadata": {},
   "source": [
    "### Explain the Kronecker product and give an example with Jacobian\n",
    "\n",
    "- Explain the indices notation versus Kronecker product and the interestingness of the matrix operation"
   ]
  },
  {
   "cell_type": "markdown",
   "id": "850785b3",
   "metadata": {},
   "source": [
    "### Explain chain rule for matrix calculus"
   ]
  }
 ],
 "metadata": {
  "kernelspec": {
   "display_name": "Python 3 (ipykernel)",
   "language": "python",
   "name": "python3"
  },
  "language_info": {
   "codemirror_mode": {
    "name": "ipython",
    "version": 3
   },
   "file_extension": ".py",
   "mimetype": "text/x-python",
   "name": "python",
   "nbconvert_exporter": "python",
   "pygments_lexer": "ipython3",
   "version": "3.11.5"
  }
 },
 "nbformat": 4,
 "nbformat_minor": 5
}
