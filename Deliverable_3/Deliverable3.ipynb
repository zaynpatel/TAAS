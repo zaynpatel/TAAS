{
 "cells": [
  {
   "cell_type": "code",
   "execution_count": 1,
   "id": "344241b3",
   "metadata": {},
   "outputs": [],
   "source": [
    "# Define Julia packages\n",
    "using LinearAlgebra, Symbolics"
   ]
  },
  {
   "cell_type": "code",
   "execution_count": 2,
   "id": "02a3ba5a",
   "metadata": {},
   "outputs": [],
   "source": [
    "# Define Python packages\n",
    "import numpy as np\n",
    "from scipy.differentiate import jacobian"
   ]
  },
  {
   "cell_type": "markdown",
   "id": "e9725b72",
   "metadata": {},
   "source": [
    "### Linear transformations as matrices - Python example\n",
    "\n",
    "First, I want to show an example of the linear transformations fact I discussed from [slides 8-12](https://docs.google.com/presentation/d/1zZBsD1vl5pKEUobh44VGZDVOXnkF7r7LBsyj4JcBk7g/edit?usp=sharing). \n",
    "\n",
    "I am defining three matrices A, B, C and a vector, x. At first I am multiplying ABC which we know is a composition equivalent to writing (a(b(c(x))). After multiplying these three matrices I apply this matrix with the variable name, `composition` to the vector x. \n",
    "\n",
    "Then, I change the strategy and multiply the respective matrix (A, B, C) to each output of the previous composition. For example: I multiply C(x) first and assign this a new variable name. Then I multiply B by the new variable name to get *yet* another matrix with a new variable name. Lastly I multiply A by this new matrix. \n",
    "\n",
    "I've used an assert statement to confirm that the output of the two approaches is the same. The first approach, multiply all matrices then apply it to x is my preferred approach. I believe this is also the standard way to do it.\n",
    "\n",
    "Because we established these approaches are the same I will use the first approach in the Jacobian examples. "
   ]
  },
  {
   "cell_type": "code",
   "execution_count": 34,
   "id": "a0e39376",
   "metadata": {},
   "outputs": [],
   "source": [
    "# Define 3 matrices\n",
    "#TODO: Later convert these constants to random ints: np.random.randint(x, y)\n",
    "\n",
    "m = 3\n",
    "q = 5\n",
    "p = 5\n",
    "n = 4\n",
    "\n",
    "# Set a seed \n",
    "np.random.seed(0)\n",
    "\n",
    "A = np.random.rand(m, q)\n",
    "B = np.random.rand(q, p)\n",
    "C = np.random.rand(p, n)\n",
    "x = np.random.rand(n, 1)"
   ]
  },
  {
   "cell_type": "code",
   "execution_count": 51,
   "id": "6abd4e3e",
   "metadata": {},
   "outputs": [],
   "source": [
    "composition = A @ B @ C"
   ]
  },
  {
   "cell_type": "code",
   "execution_count": 48,
   "id": "10dca743",
   "metadata": {},
   "outputs": [
    {
     "data": {
      "text/plain": [
       "array([[3.49606573],\n",
       "       [3.8873989 ],\n",
       "       [3.26430787]])"
      ]
     },
     "execution_count": 48,
     "metadata": {},
     "output_type": "execute_result"
    }
   ],
   "source": [
    "composition @ x"
   ]
  },
  {
   "cell_type": "code",
   "execution_count": 53,
   "id": "9aa06a8c",
   "metadata": {},
   "outputs": [
    {
     "data": {
      "text/plain": [
       "array([[3.49606573],\n",
       "       [3.8873989 ],\n",
       "       [3.26430787]])"
      ]
     },
     "execution_count": 53,
     "metadata": {},
     "output_type": "execute_result"
    }
   ],
   "source": [
    "c_to_x = C @ x\n",
    "b_to_Cx = B @ c_to_x\n",
    "A_to_BCx = A @ b_to_Cx\n",
    "A_to_BCx"
   ]
  },
  {
   "cell_type": "code",
   "execution_count": 52,
   "id": "efe0fc90",
   "metadata": {},
   "outputs": [],
   "source": [
    "assert (composition @ x).all() == A_to_BCx.all()"
   ]
  },
  {
   "cell_type": "markdown",
   "id": "4e616f45",
   "metadata": {},
   "source": [
    "### Example of f'(x), output of chain rule, being a product of two Jacobians - Julia example\n",
    "\n",
    "On slide 32 of my [Introduction to Matrix Calculus](https://docs.google.com/presentation/d/1zZBsD1vl5pKEUobh44VGZDVOXnkF7r7LBsyj4JcBk7g/edit?usp=sharing) presentation I derive the chain rule on arbitrary vectory spaces. I think it's helpful to see an example of this numerically. The functions in my example below are simple enough that we can compute the derivatives by hand to get more intuition for what's happening if we need. \n",
    "\n",
    "Let's first talk about our desired input and output dimensions. $x$ is a vector in $R^{n}$, $h(x)$ is a function (matrix) in $R^{p}$ and $f(x) = g(h(x))$ maps from $R^{n}$ to $R^{m}$. \n",
    "\n",
    "In the following section I'll refer to our desired \"output\" dimension so let me clarify what this means in a 2x2 example. \n",
    "\n",
    "If I have the matrix A which is a 2 x 2 matrix:\n",
    "\n",
    "\\begin{pmatrix}\n",
    "a & b\\\\\n",
    "c & d\n",
    "\\end{pmatrix}\n",
    "\n",
    "and a vector x which 2 x 1:\n",
    "\n",
    "\\begin{pmatrix} x \\\\ y \\end{pmatrix}\n",
    "\n",
    "The matrix-vector multiplication dimensions are 2 x 2 (m x n) @ (2 x 1) (n x 1). So, in the language I'll use below, n is the input dimension and m is the output dimension. I am calling n the input because if we think back to linear transformations as matrices where A(x) = b, x is obviously the input to the function A and its dimensions are n x 1. \n",
    "\n",
    "$f'(x)$ is in the output dimension $R^{m}$ so we know $f'(x)$ is an m x n matrix. We also know $h(x)$ is in $R^{p}$ and its derivative $h'(x)$ is also in $R^{p}$ so h'(x) is a p x n matrix. Here, again, p is the output dimension. Therefore it follows that if m x n is our output and $h'(x)$ is p x n then $g'(x)$ is an m x p matrix. \n",
    "\n",
    "Given our knowledge that these primed matrices are Jacobians we can say that $f'(x)$, a Jacobian output is the product of an m x p Jacobian and a p x n Jacobian. \n",
    "\n",
    "---\n",
    "\n",
    "In the code below I am using Julia's [ForwardDiff package](https://juliadiff.org/ForwardDiff.jl/stable/#:~:text=ForwardDiff%20implements%20methods%20to%20take,mode%20automatic%20differentiation%20(AD).). The first function `z(x)` takes looks like the following in vector-valued function notation:\n",
    "\n",
    "\\begin{pmatrix}\n",
    "x_{1}^{2} + x_{2}\\\\\n",
    "x_{1}x_{2}\n",
    "\\end{pmatrix}\n",
    "\n",
    "and the second function `w(y)` is:\n",
    "\n",
    "\\begin{pmatrix}\n",
    "sin_{y1} + y_{2}\\\\\n",
    "y_{1}y_{2}\n",
    "\\end{pmatrix}\n",
    "\n",
    "Then, after defining x (the point we'd like to take partial derivatives with respect to) and evaluating z(x) at this point I begin taking Jacobians. The reader can refer to slide 27 in [Introduction to Matrix Calculus](https://docs.google.com/presentation/d/1zZBsD1vl5pKEUobh44VGZDVOXnkF7r7LBsyj4JcBk7g/edit?usp=sharing) to recall how to do these by hand and confirm the answers. "
   ]
  },
  {
   "cell_type": "code",
   "execution_count": 33,
   "id": "6bdd22d9",
   "metadata": {},
   "outputs": [
    {
     "name": "stderr",
     "output_type": "stream",
     "text": [
      "\u001b[32m\u001b[1m   Resolving\u001b[22m\u001b[39m package versions...\n",
      "\u001b[32m\u001b[1m   Installed\u001b[22m\u001b[39m CommonSubexpressions ─ v0.3.1\n",
      "\u001b[32m\u001b[1m   Installed\u001b[22m\u001b[39m ForwardDiff ────────── v1.0.1\n",
      "\u001b[32m\u001b[1m   Installed\u001b[22m\u001b[39m DiffResults ────────── v1.1.0\n",
      "\u001b[32m\u001b[1m    Updating\u001b[22m\u001b[39m `~/.julia/environments/v1.11/Project.toml`\n",
      "  \u001b[90m[f6369f11] \u001b[39m\u001b[92m+ ForwardDiff v1.0.1\u001b[39m\n",
      "\u001b[32m\u001b[1m    Updating\u001b[22m\u001b[39m `~/.julia/environments/v1.11/Manifest.toml`\n",
      "  \u001b[90m[bbf7d656] \u001b[39m\u001b[92m+ CommonSubexpressions v0.3.1\u001b[39m\n",
      "  \u001b[90m[163ba53b] \u001b[39m\u001b[92m+ DiffResults v1.1.0\u001b[39m\n",
      "  \u001b[90m[f6369f11] \u001b[39m\u001b[92m+ ForwardDiff v1.0.1\u001b[39m\n",
      "\u001b[92m\u001b[1mPrecompiling\u001b[22m\u001b[39m project...\n",
      "   1166.9 ms\u001b[32m  ✓ \u001b[39m\u001b[90mCommonSubexpressions\u001b[39m\n",
      "    747.5 ms\u001b[32m  ✓ \u001b[39m\u001b[90mDiffResults\u001b[39m\n",
      "   2264.7 ms\u001b[32m  ✓ \u001b[39mForwardDiff\n",
      "    616.5 ms\u001b[32m  ✓ \u001b[39m\u001b[90mRecursiveArrayTools → RecursiveArrayToolsForwardDiffExt\u001b[39m\n",
      "   1009.1 ms\u001b[32m  ✓ \u001b[39mForwardDiff → ForwardDiffStaticArraysExt\n",
      "   2340.5 ms\u001b[32m  ✓ \u001b[39mSymbolics → SymbolicsForwardDiffExt\n",
      "  6 dependencies successfully precompiled in 7 seconds. 178 already precompiled.\n"
     ]
    }
   ],
   "source": [
    "using Pkg\n",
    "Pkg.add(\"ForwardDiff\")"
   ]
  },
  {
   "cell_type": "code",
   "execution_count": 34,
   "id": "10b5e590",
   "metadata": {},
   "outputs": [],
   "source": [
    "using ForwardDiff"
   ]
  },
  {
   "cell_type": "code",
   "execution_count": 36,
   "id": "b72addf5",
   "metadata": {},
   "outputs": [
    {
     "data": {
      "text/plain": [
       "z (generic function with 1 method)"
      ]
     },
     "execution_count": 36,
     "metadata": {},
     "output_type": "execute_result"
    }
   ],
   "source": [
    "function z(x)\n",
    "    return [x[1]^2 + x[2]\n",
    "        x[1] * x[2]]\n",
    "end"
   ]
  },
  {
   "cell_type": "code",
   "execution_count": 37,
   "id": "c849f956",
   "metadata": {},
   "outputs": [
    {
     "data": {
      "text/plain": [
       "w (generic function with 1 method)"
      ]
     },
     "execution_count": 37,
     "metadata": {},
     "output_type": "execute_result"
    }
   ],
   "source": [
    "function w(y)\n",
    "    return [sin(y[1]) + y[2],\n",
    "    y[1] * y[2]]\n",
    "end"
   ]
  },
  {
   "cell_type": "code",
   "execution_count": 38,
   "id": "b8be01f5",
   "metadata": {},
   "outputs": [
    {
     "data": {
      "text/plain": [
       "2-element Vector{Float64}:\n",
       " 1.0\n",
       " 2.0"
      ]
     },
     "execution_count": 38,
     "metadata": {},
     "output_type": "execute_result"
    }
   ],
   "source": [
    "x = [1.0, 2.0]"
   ]
  },
  {
   "cell_type": "code",
   "execution_count": 39,
   "id": "ec31aa30",
   "metadata": {},
   "outputs": [
    {
     "data": {
      "text/plain": [
       "2-element Vector{Float64}:\n",
       " 3.0\n",
       " 2.0"
      ]
     },
     "execution_count": 39,
     "metadata": {},
     "output_type": "execute_result"
    }
   ],
   "source": [
    "zx = z(x)"
   ]
  },
  {
   "cell_type": "code",
   "execution_count": 40,
   "id": "12a81ccb",
   "metadata": {},
   "outputs": [
    {
     "data": {
      "text/plain": [
       "2×2 Matrix{Float64}:\n",
       " 2.0  1.0\n",
       " 2.0  1.0"
      ]
     },
     "execution_count": 40,
     "metadata": {},
     "output_type": "execute_result"
    }
   ],
   "source": [
    "Dhx = ForwardDiff.jacobian(z, x)"
   ]
  },
  {
   "cell_type": "code",
   "execution_count": 41,
   "id": "a6b6437a",
   "metadata": {},
   "outputs": [
    {
     "data": {
      "text/plain": [
       "2×2 Matrix{Float64}:\n",
       " -0.989992  1.0\n",
       "  2.0       3.0"
      ]
     },
     "execution_count": 41,
     "metadata": {},
     "output_type": "execute_result"
    }
   ],
   "source": [
    "Dghx = ForwardDiff.jacobian(w, zx)"
   ]
  },
  {
   "cell_type": "code",
   "execution_count": 42,
   "id": "a8e1c2d9",
   "metadata": {},
   "outputs": [
    {
     "data": {
      "text/plain": [
       "2×2 Matrix{Float64}:\n",
       "  0.020015  0.0100075\n",
       " 10.0       5.0"
      ]
     },
     "execution_count": 42,
     "metadata": {},
     "output_type": "execute_result"
    }
   ],
   "source": [
    "J_composed = Dghx * Dhx"
   ]
  },
  {
   "cell_type": "markdown",
   "id": "e00ad5de",
   "metadata": {},
   "source": [
    "### Symbolic Jacobians in Symbolic Kronecker Product notation - Julia\n",
    "\n",
    "The goal of this section is to develop a notation to write the Jacobian without having to write the Jacobian. This notation is called the Kronecker product. \n",
    "\n",
    "You may be asking: \"Why would we want to do this?\" It seems there are two reasons for this. First, it's simpler. As we will see we can write the Jacobian as a sum of two Kronecker products without needing to think about partial derivatives at all. Second, the Jacobian is someitmes computationally inefficient (the Kronecker product is too) and we'll want to adopt a different way to compute this. \n",
    "\n",
    "In order to understand the Kronecker product we will need to first understand matrix \"vectorization.\" Let's also define and see an example of the Kronecker product. \n",
    "\n",
    "The first code block below defines a 2 x 2 matrix X. These dimensions (m x n) are important because the dimensions of our vectorized matrix will be mn x 1. Vectorizing a matrix stacks the columns on top of each other.\n",
    "\n",
    "Next, let's define the Kronecker product. \n",
    "\n",
    "> If A is an m x n matrix with entries $a_{ij}$ and B is a p x q matrix then their Kronecker product A ⊗ B is an mp x nq matrix. The Kronecker product takes each entry of A and multiplies it by the matrix B s.t the resultant matrix has \"all combinations of A's entries with the matrix B.\"\n",
    "\n",
    "The example in the fourth code block below shows the definition clearly. The $X_{11}$ entry, **a** is multiplied by every letter in Z and this populates a mini 2x2 in `kron(X, Z)`. Perhaps one way to think about the Kronecker product, using the definition, is as a scalar multiplication of each $A_{ij}$ entry with B s.t. the result is an appropriately sized matrix in the Kronecker product output. The numerical example `kron(T, U)` shows this scalar multiplication perspective. "
   ]
  },
  {
   "cell_type": "code",
   "execution_count": 43,
   "id": "d665647e",
   "metadata": {},
   "outputs": [
    {
     "data": {
      "text/latex": [
       "$$ \\begin{equation}\n",
       "\\left[\n",
       "\\begin{array}{cc}\n",
       "a & b \\\\\n",
       "c & d \\\\\n",
       "\\end{array}\n",
       "\\right]\n",
       "\\end{equation}\n",
       " $$"
      ],
      "text/plain": [
       "2×2 Matrix{Num}:\n",
       " a  b\n",
       " c  d"
      ]
     },
     "execution_count": 43,
     "metadata": {},
     "output_type": "execute_result"
    }
   ],
   "source": [
    "# Define variables\n",
    "@variables a, b, c, d\n",
    "\n",
    "X = [a b; c d]"
   ]
  },
  {
   "cell_type": "code",
   "execution_count": 44,
   "id": "603af94c",
   "metadata": {},
   "outputs": [
    {
     "data": {
      "text/latex": [
       "$$ \\begin{equation}\n",
       "\\left[\n",
       "\\begin{array}{c}\n",
       "a \\\\\n",
       "c \\\\\n",
       "b \\\\\n",
       "d \\\\\n",
       "\\end{array}\n",
       "\\right]\n",
       "\\end{equation}\n",
       " $$"
      ],
      "text/plain": [
       "4-element Vector{Num}:\n",
       " a\n",
       " c\n",
       " b\n",
       " d"
      ]
     },
     "execution_count": 44,
     "metadata": {},
     "output_type": "execute_result"
    }
   ],
   "source": [
    "# Vec the 2x2 matrix -> 4 x 1 vector\n",
    "\n",
    "vec(X)"
   ]
  },
  {
   "cell_type": "code",
   "execution_count": 45,
   "id": "58f53d0a",
   "metadata": {},
   "outputs": [
    {
     "data": {
      "text/latex": [
       "$$ \\begin{equation}\n",
       "\\left[\n",
       "\\begin{array}{cc}\n",
       "l & m \\\\\n",
       "n & o \\\\\n",
       "\\end{array}\n",
       "\\right]\n",
       "\\end{equation}\n",
       " $$"
      ],
      "text/plain": [
       "2×2 Matrix{Num}:\n",
       " l  m\n",
       " n  o"
      ]
     },
     "execution_count": 45,
     "metadata": {},
     "output_type": "execute_result"
    }
   ],
   "source": [
    "# First symbolic example of Kronecker products\n",
    "@variables l, m, n, o\n",
    "\n",
    "Z = [l m; n o]"
   ]
  },
  {
   "cell_type": "code",
   "execution_count": 46,
   "id": "86cae6a0",
   "metadata": {},
   "outputs": [
    {
     "data": {
      "text/latex": [
       "$$ \\begin{equation}\n",
       "\\left[\n",
       "\\begin{array}{cccc}\n",
       "a l & a m & b l & b m \\\\\n",
       "a n & a o & b n & b o \\\\\n",
       "c l & c m & d l & d m \\\\\n",
       "c n & c o & d n & d o \\\\\n",
       "\\end{array}\n",
       "\\right]\n",
       "\\end{equation}\n",
       " $$"
      ],
      "text/plain": [
       "4×4 Matrix{Num}:\n",
       " a*l  a*m  b*l  b*m\n",
       " a*n  a*o  b*n  b*o\n",
       " c*l  c*m  d*l  d*m\n",
       " c*n  c*o  d*n  d*o"
      ]
     },
     "execution_count": 46,
     "metadata": {},
     "output_type": "execute_result"
    }
   ],
   "source": [
    "kron(X, Z)"
   ]
  },
  {
   "cell_type": "code",
   "execution_count": 49,
   "id": "ff934a47",
   "metadata": {},
   "outputs": [
    {
     "data": {
      "text/plain": [
       "2×2 Matrix{Int64}:\n",
       " 1  2\n",
       " 3  6"
      ]
     },
     "execution_count": 49,
     "metadata": {},
     "output_type": "execute_result"
    }
   ],
   "source": [
    "T = [1 2; 3 6]"
   ]
  },
  {
   "cell_type": "code",
   "execution_count": 50,
   "id": "abe50ad2",
   "metadata": {},
   "outputs": [
    {
     "data": {
      "text/plain": [
       "2×2 Matrix{Int64}:\n",
       " 10  20\n",
       " 30  40"
      ]
     },
     "execution_count": 50,
     "metadata": {},
     "output_type": "execute_result"
    }
   ],
   "source": [
    "U = [10 20; 30 40]"
   ]
  },
  {
   "cell_type": "code",
   "execution_count": 51,
   "id": "5c655f7d",
   "metadata": {},
   "outputs": [
    {
     "data": {
      "text/plain": [
       "4×4 Matrix{Int64}:\n",
       " 10   20   20   40\n",
       " 30   40   60   80\n",
       " 30   60   60  120\n",
       " 90  120  180  240"
      ]
     },
     "execution_count": 51,
     "metadata": {},
     "output_type": "execute_result"
    }
   ],
   "source": [
    "kron(T, U)"
   ]
  },
  {
   "cell_type": "code",
   "execution_count": 18,
   "id": "aa55822a",
   "metadata": {},
   "outputs": [
    {
     "data": {
      "text/latex": [
       "$$ \\begin{equation}\n",
       "\\left[\n",
       "\\begin{array}{cc}\n",
       "a^{2} + b c & a b + b d \\\\\n",
       "a c + c d & b c + d^{2} \\\\\n",
       "\\end{array}\n",
       "\\right]\n",
       "\\end{equation}\n",
       " $$"
      ],
      "text/plain": [
       "2×2 Matrix{Num}:\n",
       " a^2 + b*c  a*b + b*d\n",
       " a*c + c*d  b*c + d^2"
      ]
     },
     "execution_count": 18,
     "metadata": {},
     "output_type": "execute_result"
    }
   ],
   "source": [
    "X^2"
   ]
  },
  {
   "cell_type": "code",
   "execution_count": 19,
   "id": "18b76f17",
   "metadata": {},
   "outputs": [
    {
     "data": {
      "text/plain": [
       "jac (generic function with 1 method)"
      ]
     },
     "execution_count": 19,
     "metadata": {},
     "output_type": "execute_result"
    }
   ],
   "source": [
    "# Take the Jacobian of Y, vector valued function, with respect to parameters in X?\n",
    "\n",
    "jac(Y, X) = Symbolics.jacobian(vec(Y), vec(X))"
   ]
  },
  {
   "cell_type": "code",
   "execution_count": 20,
   "id": "f60a2f10",
   "metadata": {},
   "outputs": [
    {
     "data": {
      "text/latex": [
       "$$ \\begin{equation}\n",
       "\\left[\n",
       "\\begin{array}{cccc}\n",
       "2 a & b & c & 0 \\\\\n",
       "c & a + d & 0 & c \\\\\n",
       "b & 0 & a + d & b \\\\\n",
       "0 & b & c & 2 d \\\\\n",
       "\\end{array}\n",
       "\\right]\n",
       "\\end{equation}\n",
       " $$"
      ],
      "text/plain": [
       "4×4 Matrix{Num}:\n",
       " 2a      b      c   0\n",
       "  c  a + d      0   c\n",
       "  b      0  a + d   b\n",
       "  0      b      c  2d"
      ]
     },
     "execution_count": 20,
     "metadata": {},
     "output_type": "execute_result"
    }
   ],
   "source": [
    "# I think we would get the same answer if we took the Jacobian by hand. Right, the partial derivatives...\n",
    "# ... of each term in X^2 are in the first row. 1,1 entry of X^2 is the first row of J\n",
    "# ... and 2,1 entry of X^2 is the second row of J, etc. \n",
    "\n",
    "J = jac(X^2, X)"
   ]
  },
  {
   "cell_type": "code",
   "execution_count": 6,
   "id": "84316a36",
   "metadata": {},
   "outputs": [
    {
     "data": {
      "text/latex": [
       "$$ \\begin{equation}\n",
       "\\left[\n",
       "\\begin{array}{cccc}\n",
       "2 a & b & c & 0 \\\\\n",
       "c & a + d & 0 & c \\\\\n",
       "b & 0 & a + d & b \\\\\n",
       "0 & b & c & 2 d \\\\\n",
       "\\end{array}\n",
       "\\right]\n",
       "\\end{equation}\n",
       " $$"
      ],
      "text/plain": [
       "4×4 Matrix{Num}:\n",
       " 2a      b      c   0\n",
       "  c  a + d      0   c\n",
       "  b      0  a + d   b\n",
       "  0      b      c  2d"
      ]
     },
     "execution_count": 6,
     "metadata": {},
     "output_type": "execute_result"
    }
   ],
   "source": [
    "begin \n",
    "    I2 = [1 0; 0 1]\n",
    "    kron(I2,X) + kron(X', I2)\n",
    "end"
   ]
  },
  {
   "cell_type": "code",
   "execution_count": 7,
   "id": "5914264d",
   "metadata": {},
   "outputs": [
    {
     "data": {
      "text/latex": [
       "$$ \\begin{equation}\n",
       "\\left[\n",
       "\\begin{array}{cccc}\n",
       "a & b & 0 & 0 \\\\\n",
       "c & d & 0 & 0 \\\\\n",
       "0 & 0 & a & b \\\\\n",
       "0 & 0 & c & d \\\\\n",
       "\\end{array}\n",
       "\\right]\n",
       "\\end{equation}\n",
       " $$"
      ],
      "text/plain": [
       "4×4 Matrix{Num}:\n",
       " a  b  0  0\n",
       " c  d  0  0\n",
       " 0  0  a  b\n",
       " 0  0  c  d"
      ]
     },
     "execution_count": 7,
     "metadata": {},
     "output_type": "execute_result"
    }
   ],
   "source": [
    "# Symbolic representation\n",
    "SymB = [a b; c d]\n",
    "\n",
    "kron(I2, SymB)"
   ]
  },
  {
   "cell_type": "code",
   "execution_count": 8,
   "id": "b6dd2b29",
   "metadata": {},
   "outputs": [
    {
     "data": {
      "text/plain": [
       "2×2 Matrix{Float64}:\n",
       " 0.737501  0.0859048\n",
       " 0.705054  0.575519"
      ]
     },
     "execution_count": 8,
     "metadata": {},
     "output_type": "execute_result"
    }
   ],
   "source": [
    "B = rand(2, 2)"
   ]
  },
  {
   "cell_type": "code",
   "execution_count": 9,
   "id": "af35f37a",
   "metadata": {},
   "outputs": [
    {
     "data": {
      "text/plain": [
       "4×4 Matrix{Float64}:\n",
       " 0.737501  0.0859048  0.0       0.0\n",
       " 0.705054  0.575519   0.0       0.0\n",
       " 0.0       0.0        0.737501  0.0859048\n",
       " 0.0       0.0        0.705054  0.575519"
      ]
     },
     "execution_count": 9,
     "metadata": {},
     "output_type": "execute_result"
    }
   ],
   "source": [
    "kron(I2, B)"
   ]
  },
  {
   "cell_type": "code",
   "execution_count": 10,
   "id": "153ade9f",
   "metadata": {},
   "outputs": [
    {
     "data": {
      "text/latex": [
       "$$ \\begin{equation}\n",
       "\\left[\n",
       "\\begin{array}{c}\n",
       "a \\mathtt{c1} + b \\mathtt{c3} \\\\\n",
       "a \\mathtt{c2} + b \\mathtt{c4} \\\\\n",
       "c \\mathtt{c1} + \\mathtt{c3} d \\\\\n",
       "c \\mathtt{c2} + \\mathtt{c4} d \\\\\n",
       "\\end{array}\n",
       "\\right]\n",
       "\\end{equation}\n",
       " $$"
      ],
      "text/plain": [
       "4-element Vector{Num}:\n",
       " a*c1 + b*c3\n",
       " a*c2 + b*c4\n",
       " c*c1 + c3*d\n",
       " c*c2 + c4*d"
      ]
     },
     "execution_count": 10,
     "metadata": {},
     "output_type": "execute_result"
    }
   ],
   "source": [
    "# A kron I\n",
    "@variables c1 , c2, c3, c4\n",
    "\n",
    "A = [a b; c d]\n",
    "C = [c1; c2; c3; c4]\n",
    "vC = vec(C)\n",
    "kron(A, I2) * vC"
   ]
  },
  {
   "cell_type": "markdown",
   "id": "7dfa6a15",
   "metadata": {},
   "source": [
    "### Quick examples of two properties of trace and *why* these hold"
   ]
  },
  {
   "cell_type": "code",
   "execution_count": 11,
   "id": "06d211c0",
   "metadata": {},
   "outputs": [
    {
     "data": {
      "text/latex": [
       "$$ \\begin{equation}\n",
       "\\left[\n",
       "\\begin{array}{cc}\n",
       "e & f \\\\\n",
       "g & h \\\\\n",
       "\\end{array}\n",
       "\\right]\n",
       "\\end{equation}\n",
       " $$"
      ],
      "text/plain": [
       "2×2 Matrix{Num}:\n",
       " e  f\n",
       " g  h"
      ]
     },
     "execution_count": 11,
     "metadata": {},
     "output_type": "execute_result"
    }
   ],
   "source": [
    "@variables e, f, g, h\n",
    "\n",
    "B = [e f; g h]"
   ]
  },
  {
   "cell_type": "code",
   "execution_count": 32,
   "id": "7f7c5c16",
   "metadata": {},
   "outputs": [
    {
     "data": {
      "text/latex": [
       "$$ \\begin{equation}\n",
       "a e + b g + c f + d h\n",
       "\\end{equation}\n",
       " $$"
      ],
      "text/plain": [
       "a*e + b*g + c*f + d*h"
      ]
     },
     "execution_count": 32,
     "metadata": {},
     "output_type": "execute_result"
    }
   ],
   "source": [
    "tr(A*B)"
   ]
  },
  {
   "cell_type": "code",
   "execution_count": 33,
   "id": "f459d6ba",
   "metadata": {},
   "outputs": [
    {
     "data": {
      "text/latex": [
       "$$ \\begin{equation}\n",
       "\\left[\n",
       "\\begin{array}{cc}\n",
       "a e + b g & a f + b h \\\\\n",
       "c e + d g & c f + d h \\\\\n",
       "\\end{array}\n",
       "\\right]\n",
       "\\end{equation}\n",
       " $$"
      ],
      "text/plain": [
       "2×2 Matrix{Num}:\n",
       " a*e + b*g  a*f + b*h\n",
       " c*e + d*g  c*f + d*h"
      ]
     },
     "execution_count": 33,
     "metadata": {},
     "output_type": "execute_result"
    }
   ],
   "source": [
    "A*B"
   ]
  },
  {
   "cell_type": "code",
   "execution_count": 35,
   "id": "46c39f10",
   "metadata": {},
   "outputs": [
    {
     "data": {
      "text/latex": [
       "$$ \\begin{equation}\n",
       "\\left[\n",
       "\\begin{array}{cc}\n",
       "a e + c f & b e + d f \\\\\n",
       "a g + c h & b g + d h \\\\\n",
       "\\end{array}\n",
       "\\right]\n",
       "\\end{equation}\n",
       " $$"
      ],
      "text/plain": [
       "2×2 Matrix{Num}:\n",
       " a*e + c*f  b*e + d*f\n",
       " a*g + c*h  b*g + d*h"
      ]
     },
     "execution_count": 35,
     "metadata": {},
     "output_type": "execute_result"
    }
   ],
   "source": [
    "B*A"
   ]
  },
  {
   "cell_type": "code",
   "execution_count": 36,
   "id": "8c554846",
   "metadata": {},
   "outputs": [
    {
     "data": {
      "text/latex": [
       "$$ \\begin{equation}\n",
       "a e + b g + c f + d h\n",
       "\\end{equation}\n",
       " $$"
      ],
      "text/plain": [
       "a*e + b*g + c*f + d*h"
      ]
     },
     "execution_count": 36,
     "metadata": {},
     "output_type": "execute_result"
    }
   ],
   "source": [
    "tr(B*A)"
   ]
  },
  {
   "cell_type": "code",
   "execution_count": 38,
   "id": "6d7478c4",
   "metadata": {},
   "outputs": [
    {
     "data": {
      "text/latex": [
       "$$ \\begin{equation}\n",
       "\\left[\n",
       "\\begin{array}{cc}\n",
       "i & j \\\\\n",
       "k & l \\\\\n",
       "\\end{array}\n",
       "\\right]\n",
       "\\end{equation}\n",
       " $$"
      ],
      "text/plain": [
       "2×2 Matrix{Num}:\n",
       " i  j\n",
       " k  l"
      ]
     },
     "execution_count": 38,
     "metadata": {},
     "output_type": "execute_result"
    }
   ],
   "source": [
    "@variables i, j, k, l\n",
    "\n",
    "C = [i j; k l]"
   ]
  },
  {
   "cell_type": "code",
   "execution_count": 39,
   "id": "e55cb5b8",
   "metadata": {},
   "outputs": [
    {
     "data": {
      "text/latex": [
       "$$ \\begin{equation}\n",
       "\\left( a e + b g \\right) i + \\left( a f + b h \\right) k + \\left( c e + d g \\right) j + \\left( c f + d h \\right) l\n",
       "\\end{equation}\n",
       " $$"
      ],
      "text/plain": [
       "(a*e + b*g)*i + (a*f + b*h)*k + (c*e + d*g)*j + (c*f + d*h)*l"
      ]
     },
     "execution_count": 39,
     "metadata": {},
     "output_type": "execute_result"
    }
   ],
   "source": [
    "tr(A*B*C)"
   ]
  },
  {
   "cell_type": "code",
   "execution_count": 43,
   "id": "2da0d370",
   "metadata": {},
   "outputs": [
    {
     "data": {
      "text/latex": [
       "$$ \\begin{equation}\n",
       "\\left( a i + c j \\right) e + \\left( a k + c l \\right) f + \\left( b i + d j \\right) g + \\left( b k + d l \\right) h\n",
       "\\end{equation}\n",
       " $$"
      ],
      "text/plain": [
       "(a*i + c*j)*e + (a*k + c*l)*f + (b*i + d*j)*g + (b*k + d*l)*h"
      ]
     },
     "execution_count": 43,
     "metadata": {},
     "output_type": "execute_result"
    }
   ],
   "source": [
    "tr(C*A*B)"
   ]
  },
  {
   "cell_type": "code",
   "execution_count": 40,
   "id": "8c78522b",
   "metadata": {},
   "outputs": [
    {
     "data": {
      "text/latex": [
       "$$ \\begin{equation}\n",
       "a \\left( e i + f k \\right) + b \\left( g i + h k \\right) + c \\left( e j + f l \\right) + d \\left( g j + h l \\right)\n",
       "\\end{equation}\n",
       " $$"
      ],
      "text/plain": [
       "a*(e*i + f*k) + b*(g*i + h*k) + c*(e*j + f*l) + d*(g*j + h*l)"
      ]
     },
     "execution_count": 40,
     "metadata": {},
     "output_type": "execute_result"
    }
   ],
   "source": [
    "tr(B*C*A)"
   ]
  },
  {
   "cell_type": "markdown",
   "id": "3ec31ab5",
   "metadata": {},
   "source": [
    "### Show the matrix dot product is equal to tr(A^T* B)\n",
    "\n",
    "\n",
    "This confirms our intuition about the element-wise multiplication equaling the tr(A^T) * B.\n",
    "\n",
    "*Would be nice to explain more about the trace operator and some of the properties like cyclic property.* What is my hypothesis on why the trace operator appears so often. \n",
    "\n",
    "Look at this [link](https://math.stackexchange.com/questions/4453933/why-is-the-trace-of-a-matrix-important)."
   ]
  }
 ],
 "metadata": {
  "kernelspec": {
   "display_name": "Julia 1.11.5",
   "language": "julia",
   "name": "julia-1.11"
  },
  "language_info": {
   "file_extension": ".jl",
   "mimetype": "application/julia",
   "name": "julia",
   "version": "1.11.5"
  }
 },
 "nbformat": 4,
 "nbformat_minor": 5
}
