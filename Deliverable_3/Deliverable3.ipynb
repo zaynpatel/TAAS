{
 "cells": [
  {
   "cell_type": "code",
   "execution_count": 1,
   "id": "344241b3",
   "metadata": {},
   "outputs": [],
   "source": [
    "# Define Julia packages\n",
    "using LinearAlgebra, Symbolics"
   ]
  },
  {
   "cell_type": "code",
   "execution_count": 2,
   "id": "f0620ec2",
   "metadata": {},
   "outputs": [],
   "source": [
    "# Define Python packages\n",
    "import numpy as np\n",
    "from scipy.differentiate import jacobian"
   ]
  },
  {
   "cell_type": "markdown",
   "id": "519fbfb1",
   "metadata": {},
   "source": [
    "### Chain rule on arbitrary vector spaces example\n",
    "\n",
    "First, I want to show an example of the linear transformations fact I discussed from [slides 8-12](https://docs.google.com/presentation/d/1zZBsD1vl5pKEUobh44VGZDVOXnkF7r7LBsyj4JcBk7g/edit?usp=sharing). \n",
    "\n",
    "I am defining three matrices A, B, C and a vector, x. At first I am multiplying ABC which we know is a composition equivalent to writing (a(b(c(x))). After multiplying these three matrices I apply this matrix with the variable name, `composition` to the vector x. \n",
    "\n",
    "Then, I change the strategy and multiply the respective matrix (A, B, C) to each output of the previous composition. For example: I multiply C(x) first and assign this a new variable name. Then I multiply B by the new variable name to get *yet* another matrix with a new variable name. Lastly I multiply A by this new matrix. \n",
    "\n",
    "I've used an assert statement to confirm that the output of the two approaches is the same. The first approach, multiply all matrices then apply it to x is my preferred approach. I believe this is also the standard way to do it.\n",
    "\n",
    "Because we established these approaches are the same I will use the first approach in the Jacobian examples. "
   ]
  },
  {
   "cell_type": "code",
   "execution_count": 34,
   "id": "f750acb4",
   "metadata": {},
   "outputs": [],
   "source": [
    "# Define 3 matrices\n",
    "#TODO: Later convert these constants to random ints: np.random.randint(x, y)\n",
    "\n",
    "m = 3\n",
    "q = 5\n",
    "p = 5\n",
    "n = 4\n",
    "\n",
    "# Set a seed \n",
    "np.random.seed(0)\n",
    "\n",
    "A = np.random.rand(m, q)\n",
    "B = np.random.rand(q, p)\n",
    "C = np.random.rand(p, n)\n",
    "x = np.random.rand(n, 1)"
   ]
  },
  {
   "cell_type": "code",
   "execution_count": 51,
   "id": "bda6782e",
   "metadata": {},
   "outputs": [],
   "source": [
    "composition = A @ B @ C"
   ]
  },
  {
   "cell_type": "code",
   "execution_count": 48,
   "id": "168f707d",
   "metadata": {},
   "outputs": [
    {
     "data": {
      "text/plain": [
       "array([[3.49606573],\n",
       "       [3.8873989 ],\n",
       "       [3.26430787]])"
      ]
     },
     "execution_count": 48,
     "metadata": {},
     "output_type": "execute_result"
    }
   ],
   "source": [
    "composition @ x"
   ]
  },
  {
   "cell_type": "code",
   "execution_count": 53,
   "id": "1b638d44",
   "metadata": {},
   "outputs": [
    {
     "data": {
      "text/plain": [
       "array([[3.49606573],\n",
       "       [3.8873989 ],\n",
       "       [3.26430787]])"
      ]
     },
     "execution_count": 53,
     "metadata": {},
     "output_type": "execute_result"
    }
   ],
   "source": [
    "c_to_x = C @ x\n",
    "b_to_Cx = B @ c_to_x\n",
    "A_to_BCx = A @ b_to_Cx\n",
    "A_to_BCx"
   ]
  },
  {
   "cell_type": "code",
   "execution_count": 52,
   "id": "fbac473c",
   "metadata": {},
   "outputs": [],
   "source": [
    "assert (composition @ x).all() == A_to_BCx.all()"
   ]
  },
  {
   "cell_type": "code",
   "execution_count": 57,
   "id": "484f79b5",
   "metadata": {},
   "outputs": [],
   "source": [
    "# Try example\n",
    "\n",
    "def f(x):\n",
    "    x1, x2, x3 = x\n",
    "    return [x1, 5*x3, 4*x2**2 - 2*x3, x3*np.sin(x1)]"
   ]
  },
  {
   "cell_type": "code",
   "execution_count": 58,
   "id": "fc171454",
   "metadata": {},
   "outputs": [],
   "source": [
    "def df(x):\n",
    "    x1, x2, x3 = x\n",
    "    one = np.ones_like(x1) # ?\n",
    "    return [[one, 0*one, 0*one],\n",
    "                [0*one, 0*one, 5*one],\n",
    "                [0*one, 8*x2, -2*one],\n",
    "                [x3*np.cos(x1), 0*one, np.sin(x1)]]"
   ]
  },
  {
   "cell_type": "code",
   "execution_count": 64,
   "id": "431e8eb9",
   "metadata": {},
   "outputs": [
    {
     "data": {
      "text/plain": [
       "[[array(1), 0, 0],\n",
       " [0, 0, 5],\n",
       " [0, 16, -2],\n",
       " [-0.9899924966004454, 0, 0.1411200080598672]]"
      ]
     },
     "execution_count": 64,
     "metadata": {},
     "output_type": "execute_result"
    }
   ],
   "source": [
    "df = df(x)\n",
    "df"
   ]
  },
  {
   "cell_type": "code",
   "execution_count": 65,
   "id": "b202c4e9",
   "metadata": {},
   "outputs": [
    {
     "ename": "TypeError",
     "evalue": "'list' object is not callable",
     "output_type": "error",
     "traceback": [
      "\u001b[0;31m---------------------------------------------------------------------------\u001b[0m",
      "\u001b[0;31mTypeError\u001b[0m                                 Traceback (most recent call last)",
      "Cell \u001b[0;32mIn[65], line 3\u001b[0m\n\u001b[1;32m      1\u001b[0m rng \u001b[38;5;241m=\u001b[39m np\u001b[38;5;241m.\u001b[39mrandom\u001b[38;5;241m.\u001b[39mdefault_rng()\n\u001b[1;32m      2\u001b[0m x \u001b[38;5;241m=\u001b[39m rng\u001b[38;5;241m.\u001b[39mrandom(size\u001b[38;5;241m=\u001b[39m\u001b[38;5;241m3\u001b[39m)\n\u001b[0;32m----> 3\u001b[0m res \u001b[38;5;241m=\u001b[39m jacobian(f, x)\n\u001b[1;32m      4\u001b[0m res\n",
      "File \u001b[0;32m/opt/anaconda3/lib/python3.12/site-packages/scipy/differentiate/_differentiate.py:931\u001b[0m, in \u001b[0;36mjacobian\u001b[0;34m(f, x, tolerances, maxiter, order, initial_step, step_factor, step_direction)\u001b[0m\n\u001b[1;32m    928\u001b[0m     xph[i, i] \u001b[38;5;241m=\u001b[39m x\n\u001b[1;32m    929\u001b[0m     \u001b[38;5;28;01mreturn\u001b[39;00m f(xph)\n\u001b[0;32m--> 931\u001b[0m res \u001b[38;5;241m=\u001b[39m derivative(wrapped, x, tolerances\u001b[38;5;241m=\u001b[39mtolerances,\n\u001b[1;32m    932\u001b[0m                  maxiter\u001b[38;5;241m=\u001b[39mmaxiter, order\u001b[38;5;241m=\u001b[39morder, initial_step\u001b[38;5;241m=\u001b[39minitial_step,\n\u001b[1;32m    933\u001b[0m                  step_factor\u001b[38;5;241m=\u001b[39mstep_factor, preserve_shape\u001b[38;5;241m=\u001b[39m\u001b[38;5;28;01mTrue\u001b[39;00m,\n\u001b[1;32m    934\u001b[0m                  step_direction\u001b[38;5;241m=\u001b[39mstep_direction)\n\u001b[1;32m    936\u001b[0m \u001b[38;5;28;01mdel\u001b[39;00m res\u001b[38;5;241m.\u001b[39mx  \u001b[38;5;66;03m# the user knows `x`, and the way it gets broadcasted is meaningless here\u001b[39;00m\n\u001b[1;32m    937\u001b[0m \u001b[38;5;28;01mreturn\u001b[39;00m res\n",
      "File \u001b[0;32m/opt/anaconda3/lib/python3.12/site-packages/scipy/differentiate/_differentiate.py:387\u001b[0m, in \u001b[0;36mderivative\u001b[0;34m(f, x, args, tolerances, maxiter, order, initial_step, step_factor, step_direction, preserve_shape, callback)\u001b[0m\n\u001b[1;32m    379\u001b[0m (func, x, args, atol, rtol, maxiter, order,\n\u001b[1;32m    380\u001b[0m  h0, fac, hdir, preserve_shape, callback) \u001b[38;5;241m=\u001b[39m res\n\u001b[1;32m    382\u001b[0m \u001b[38;5;66;03m# Initialization\u001b[39;00m\n\u001b[1;32m    383\u001b[0m \u001b[38;5;66;03m# Since f(x) (no step) is not needed for central differences, it may be\u001b[39;00m\n\u001b[1;32m    384\u001b[0m \u001b[38;5;66;03m# possible to eliminate this function evaluation. However, it's useful for\u001b[39;00m\n\u001b[1;32m    385\u001b[0m \u001b[38;5;66;03m# input validation and standardization, and everything else is designed to\u001b[39;00m\n\u001b[1;32m    386\u001b[0m \u001b[38;5;66;03m# reduce function calls, so let's keep it simple.\u001b[39;00m\n\u001b[0;32m--> 387\u001b[0m temp \u001b[38;5;241m=\u001b[39m eim\u001b[38;5;241m.\u001b[39m_initialize(func, (x,), args, preserve_shape\u001b[38;5;241m=\u001b[39mpreserve_shape)\n\u001b[1;32m    388\u001b[0m func, xs, fs, args, shape, dtype, xp \u001b[38;5;241m=\u001b[39m temp\n\u001b[1;32m    390\u001b[0m finfo \u001b[38;5;241m=\u001b[39m xp\u001b[38;5;241m.\u001b[39mfinfo(dtype)\n",
      "File \u001b[0;32m/opt/anaconda3/lib/python3.12/site-packages/scipy/_lib/_elementwise_iterative_method.py:90\u001b[0m, in \u001b[0;36m_initialize\u001b[0;34m(func, xs, args, complex_ok, preserve_shape, xp)\u001b[0m\n\u001b[1;32m     88\u001b[0m xs, args \u001b[38;5;241m=\u001b[39m xas[:nx], xas[nx:]\n\u001b[1;32m     89\u001b[0m xs \u001b[38;5;241m=\u001b[39m [xp\u001b[38;5;241m.\u001b[39masarray(x, dtype\u001b[38;5;241m=\u001b[39mxat) \u001b[38;5;28;01mfor\u001b[39;00m x \u001b[38;5;129;01min\u001b[39;00m xs]  \u001b[38;5;66;03m# use copy=False when implemented\u001b[39;00m\n\u001b[0;32m---> 90\u001b[0m fs \u001b[38;5;241m=\u001b[39m [xp\u001b[38;5;241m.\u001b[39masarray(func(x, \u001b[38;5;241m*\u001b[39margs)) \u001b[38;5;28;01mfor\u001b[39;00m x \u001b[38;5;129;01min\u001b[39;00m xs]\n\u001b[1;32m     91\u001b[0m shape \u001b[38;5;241m=\u001b[39m xs[\u001b[38;5;241m0\u001b[39m]\u001b[38;5;241m.\u001b[39mshape\n\u001b[1;32m     92\u001b[0m fshape \u001b[38;5;241m=\u001b[39m fs[\u001b[38;5;241m0\u001b[39m]\u001b[38;5;241m.\u001b[39mshape\n",
      "File \u001b[0;32m/opt/anaconda3/lib/python3.12/site-packages/scipy/differentiate/_differentiate.py:929\u001b[0m, in \u001b[0;36mjacobian.<locals>.wrapped\u001b[0;34m(x)\u001b[0m\n\u001b[1;32m    927\u001b[0m xph \u001b[38;5;241m=\u001b[39m xp_copy(xp\u001b[38;5;241m.\u001b[39mbroadcast_to(xph, new_shape), xp\u001b[38;5;241m=\u001b[39mxp)\n\u001b[1;32m    928\u001b[0m xph[i, i] \u001b[38;5;241m=\u001b[39m x\n\u001b[0;32m--> 929\u001b[0m \u001b[38;5;28;01mreturn\u001b[39;00m f(xph)\n",
      "\u001b[0;31mTypeError\u001b[0m: 'list' object is not callable"
     ]
    }
   ],
   "source": [
    "rng = np.random.default_rng()\n",
    "x = rng.random(size=3)\n",
    "res = jacobian(f, x)\n",
    "res"
   ]
  },
  {
   "cell_type": "markdown",
   "id": "419dea02",
   "metadata": {},
   "source": [
    "### Jacobian in Kronecker Product notation"
   ]
  },
  {
   "cell_type": "code",
   "execution_count": 5,
   "id": "d665647e",
   "metadata": {},
   "outputs": [
    {
     "data": {
      "text/latex": [
       "$$ \\begin{equation}\n",
       "\\left[\n",
       "\\begin{array}{cc}\n",
       "a & b \\\\\n",
       "c & d \\\\\n",
       "\\end{array}\n",
       "\\right]\n",
       "\\end{equation}\n",
       " $$"
      ],
      "text/plain": [
       "2×2 Matrix{Num}:\n",
       " a  b\n",
       " c  d"
      ]
     },
     "execution_count": 5,
     "metadata": {},
     "output_type": "execute_result"
    }
   ],
   "source": [
    "# Define variables\n",
    "@variables a, b, c, d\n",
    "\n",
    "X = [a b; c d]"
   ]
  },
  {
   "cell_type": "code",
   "execution_count": 6,
   "id": "aa55822a",
   "metadata": {},
   "outputs": [
    {
     "data": {
      "text/latex": [
       "$$ \\begin{equation}\n",
       "\\left[\n",
       "\\begin{array}{cc}\n",
       "a^{2} + b c & a b + b d \\\\\n",
       "a c + c d & b c + d^{2} \\\\\n",
       "\\end{array}\n",
       "\\right]\n",
       "\\end{equation}\n",
       " $$"
      ],
      "text/plain": [
       "2×2 Matrix{Num}:\n",
       " a^2 + b*c  a*b + b*d\n",
       " a*c + c*d  b*c + d^2"
      ]
     },
     "execution_count": 6,
     "metadata": {},
     "output_type": "execute_result"
    }
   ],
   "source": [
    "X^2"
   ]
  },
  {
   "cell_type": "code",
   "execution_count": 7,
   "id": "18b76f17",
   "metadata": {},
   "outputs": [
    {
     "data": {
      "text/plain": [
       "jac (generic function with 1 method)"
      ]
     },
     "execution_count": 7,
     "metadata": {},
     "output_type": "execute_result"
    }
   ],
   "source": [
    "# This defines the function and our \"Y\" is X^2?\n",
    "\n",
    "jac(Y, X) = Symbolics.jacobian(vec(Y), vec(X))"
   ]
  },
  {
   "cell_type": "code",
   "execution_count": 8,
   "id": "f60a2f10",
   "metadata": {},
   "outputs": [
    {
     "data": {
      "text/latex": [
       "$$ \\begin{equation}\n",
       "\\left[\n",
       "\\begin{array}{cccc}\n",
       "2 a & b & c & 0 \\\\\n",
       "c & a + d & 0 & c \\\\\n",
       "b & 0 & a + d & b \\\\\n",
       "0 & b & c & 2 d \\\\\n",
       "\\end{array}\n",
       "\\right]\n",
       "\\end{equation}\n",
       " $$"
      ],
      "text/plain": [
       "4×4 Matrix{Num}:\n",
       " 2a      b      c   0\n",
       "  c  a + d      0   c\n",
       "  b      0  a + d   b\n",
       "  0      b      c  2d"
      ]
     },
     "execution_count": 8,
     "metadata": {},
     "output_type": "execute_result"
    }
   ],
   "source": [
    "# I think we would get the same answer if we took the Jacobian by hand. Right, the partial derivatives...\n",
    "# ... of each term in X^2 are in the first row. 1,1 entry of X^2 is the first row of J\n",
    "# ... and 2,1 entry of X^2 is the second row of J, etc. \n",
    "\n",
    "J = jac(X^2, X)"
   ]
  },
  {
   "cell_type": "code",
   "execution_count": 9,
   "id": "84316a36",
   "metadata": {},
   "outputs": [
    {
     "data": {
      "text/latex": [
       "$$ \\begin{equation}\n",
       "\\left[\n",
       "\\begin{array}{cccc}\n",
       "2 a & b & c & 0 \\\\\n",
       "c & a + d & 0 & c \\\\\n",
       "b & 0 & a + d & b \\\\\n",
       "0 & b & c & 2 d \\\\\n",
       "\\end{array}\n",
       "\\right]\n",
       "\\end{equation}\n",
       " $$"
      ],
      "text/plain": [
       "4×4 Matrix{Num}:\n",
       " 2a      b      c   0\n",
       "  c  a + d      0   c\n",
       "  b      0  a + d   b\n",
       "  0      b      c  2d"
      ]
     },
     "execution_count": 9,
     "metadata": {},
     "output_type": "execute_result"
    }
   ],
   "source": [
    "begin \n",
    "    I2 = [1 0; 0 1]\n",
    "    kron(I2,X) + kron(X', I2)\n",
    "end"
   ]
  },
  {
   "cell_type": "code",
   "execution_count": 23,
   "id": "5914264d",
   "metadata": {},
   "outputs": [
    {
     "data": {
      "text/latex": [
       "$$ \\begin{equation}\n",
       "\\left[\n",
       "\\begin{array}{cccc}\n",
       "a & b & 0 & 0 \\\\\n",
       "c & d & 0 & 0 \\\\\n",
       "0 & 0 & a & b \\\\\n",
       "0 & 0 & c & d \\\\\n",
       "\\end{array}\n",
       "\\right]\n",
       "\\end{equation}\n",
       " $$"
      ],
      "text/plain": [
       "4×4 Matrix{Num}:\n",
       " a  b  0  0\n",
       " c  d  0  0\n",
       " 0  0  a  b\n",
       " 0  0  c  d"
      ]
     },
     "execution_count": 23,
     "metadata": {},
     "output_type": "execute_result"
    }
   ],
   "source": [
    "# Symbolic representation\n",
    "SymB = [a b; c d]\n",
    "\n",
    "kron(I2, SymB)"
   ]
  },
  {
   "cell_type": "code",
   "execution_count": 22,
   "id": "b6dd2b29",
   "metadata": {},
   "outputs": [
    {
     "data": {
      "text/plain": [
       "2×2 Matrix{Float64}:\n",
       " 0.797831  0.737042\n",
       " 0.170769  0.511479"
      ]
     },
     "execution_count": 22,
     "metadata": {},
     "output_type": "execute_result"
    }
   ],
   "source": [
    "B = rand(2, 2)"
   ]
  },
  {
   "cell_type": "code",
   "execution_count": 21,
   "id": "af35f37a",
   "metadata": {},
   "outputs": [
    {
     "data": {
      "text/plain": [
       "4×4 Matrix{Float64}:\n",
       " 0.750043  0.179112  0.0       0.0\n",
       " 0.80159   0.841292  0.0       0.0\n",
       " 0.0       0.0       0.750043  0.179112\n",
       " 0.0       0.0       0.80159   0.841292"
      ]
     },
     "execution_count": 21,
     "metadata": {},
     "output_type": "execute_result"
    }
   ],
   "source": [
    "kron(I2, B)"
   ]
  },
  {
   "cell_type": "code",
   "execution_count": 20,
   "id": "153ade9f",
   "metadata": {},
   "outputs": [
    {
     "data": {
      "text/latex": [
       "$$ \\begin{equation}\n",
       "\\left[\n",
       "\\begin{array}{c}\n",
       "a \\mathtt{c1} + b \\mathtt{c3} \\\\\n",
       "a \\mathtt{c2} + b \\mathtt{c4} \\\\\n",
       "c \\mathtt{c1} + \\mathtt{c3} d \\\\\n",
       "c \\mathtt{c2} + \\mathtt{c4} d \\\\\n",
       "\\end{array}\n",
       "\\right]\n",
       "\\end{equation}\n",
       " $$"
      ],
      "text/plain": [
       "4-element Vector{Num}:\n",
       " a*c1 + b*c3\n",
       " a*c2 + b*c4\n",
       " c*c1 + c3*d\n",
       " c*c2 + c4*d"
      ]
     },
     "execution_count": 20,
     "metadata": {},
     "output_type": "execute_result"
    }
   ],
   "source": [
    "# A kron I\n",
    "@variables c1 , c2, c3, c4\n",
    "\n",
    "A = [a b; c d]\n",
    "C = [c1; c2; c3; c4]\n",
    "vC = vec(C)\n",
    "kron(A, I2) * vC"
   ]
  },
  {
   "cell_type": "markdown",
   "id": "7dfa6a15",
   "metadata": {},
   "source": [
    "### Quick examples of two properties of trace and *why* these hold"
   ]
  },
  {
   "cell_type": "code",
   "execution_count": 30,
   "id": "06d211c0",
   "metadata": {},
   "outputs": [
    {
     "data": {
      "text/latex": [
       "$$ \\begin{equation}\n",
       "\\left[\n",
       "\\begin{array}{cc}\n",
       "e & f \\\\\n",
       "g & h \\\\\n",
       "\\end{array}\n",
       "\\right]\n",
       "\\end{equation}\n",
       " $$"
      ],
      "text/plain": [
       "2×2 Matrix{Num}:\n",
       " e  f\n",
       " g  h"
      ]
     },
     "execution_count": 30,
     "metadata": {},
     "output_type": "execute_result"
    }
   ],
   "source": [
    "@variables e, f, g, h\n",
    "\n",
    "B = [e f; g h]"
   ]
  },
  {
   "cell_type": "code",
   "execution_count": 32,
   "id": "7f7c5c16",
   "metadata": {},
   "outputs": [
    {
     "data": {
      "text/latex": [
       "$$ \\begin{equation}\n",
       "a e + b g + c f + d h\n",
       "\\end{equation}\n",
       " $$"
      ],
      "text/plain": [
       "a*e + b*g + c*f + d*h"
      ]
     },
     "execution_count": 32,
     "metadata": {},
     "output_type": "execute_result"
    }
   ],
   "source": [
    "tr(A*B)"
   ]
  },
  {
   "cell_type": "code",
   "execution_count": 33,
   "id": "f459d6ba",
   "metadata": {},
   "outputs": [
    {
     "data": {
      "text/latex": [
       "$$ \\begin{equation}\n",
       "\\left[\n",
       "\\begin{array}{cc}\n",
       "a e + b g & a f + b h \\\\\n",
       "c e + d g & c f + d h \\\\\n",
       "\\end{array}\n",
       "\\right]\n",
       "\\end{equation}\n",
       " $$"
      ],
      "text/plain": [
       "2×2 Matrix{Num}:\n",
       " a*e + b*g  a*f + b*h\n",
       " c*e + d*g  c*f + d*h"
      ]
     },
     "execution_count": 33,
     "metadata": {},
     "output_type": "execute_result"
    }
   ],
   "source": [
    "A*B"
   ]
  },
  {
   "cell_type": "code",
   "execution_count": 35,
   "id": "46c39f10",
   "metadata": {},
   "outputs": [
    {
     "data": {
      "text/latex": [
       "$$ \\begin{equation}\n",
       "\\left[\n",
       "\\begin{array}{cc}\n",
       "a e + c f & b e + d f \\\\\n",
       "a g + c h & b g + d h \\\\\n",
       "\\end{array}\n",
       "\\right]\n",
       "\\end{equation}\n",
       " $$"
      ],
      "text/plain": [
       "2×2 Matrix{Num}:\n",
       " a*e + c*f  b*e + d*f\n",
       " a*g + c*h  b*g + d*h"
      ]
     },
     "execution_count": 35,
     "metadata": {},
     "output_type": "execute_result"
    }
   ],
   "source": [
    "B*A"
   ]
  },
  {
   "cell_type": "code",
   "execution_count": 36,
   "id": "8c554846",
   "metadata": {},
   "outputs": [
    {
     "data": {
      "text/latex": [
       "$$ \\begin{equation}\n",
       "a e + b g + c f + d h\n",
       "\\end{equation}\n",
       " $$"
      ],
      "text/plain": [
       "a*e + b*g + c*f + d*h"
      ]
     },
     "execution_count": 36,
     "metadata": {},
     "output_type": "execute_result"
    }
   ],
   "source": [
    "tr(B*A)"
   ]
  },
  {
   "cell_type": "code",
   "execution_count": 38,
   "id": "6d7478c4",
   "metadata": {},
   "outputs": [
    {
     "data": {
      "text/latex": [
       "$$ \\begin{equation}\n",
       "\\left[\n",
       "\\begin{array}{cc}\n",
       "i & j \\\\\n",
       "k & l \\\\\n",
       "\\end{array}\n",
       "\\right]\n",
       "\\end{equation}\n",
       " $$"
      ],
      "text/plain": [
       "2×2 Matrix{Num}:\n",
       " i  j\n",
       " k  l"
      ]
     },
     "execution_count": 38,
     "metadata": {},
     "output_type": "execute_result"
    }
   ],
   "source": [
    "@variables i, j, k, l\n",
    "\n",
    "C = [i j; k l]"
   ]
  },
  {
   "cell_type": "code",
   "execution_count": 39,
   "id": "e55cb5b8",
   "metadata": {},
   "outputs": [
    {
     "data": {
      "text/latex": [
       "$$ \\begin{equation}\n",
       "\\left( a e + b g \\right) i + \\left( a f + b h \\right) k + \\left( c e + d g \\right) j + \\left( c f + d h \\right) l\n",
       "\\end{equation}\n",
       " $$"
      ],
      "text/plain": [
       "(a*e + b*g)*i + (a*f + b*h)*k + (c*e + d*g)*j + (c*f + d*h)*l"
      ]
     },
     "execution_count": 39,
     "metadata": {},
     "output_type": "execute_result"
    }
   ],
   "source": [
    "tr(A*B*C)"
   ]
  },
  {
   "cell_type": "code",
   "execution_count": 43,
   "id": "2da0d370",
   "metadata": {},
   "outputs": [
    {
     "data": {
      "text/latex": [
       "$$ \\begin{equation}\n",
       "\\left( a i + c j \\right) e + \\left( a k + c l \\right) f + \\left( b i + d j \\right) g + \\left( b k + d l \\right) h\n",
       "\\end{equation}\n",
       " $$"
      ],
      "text/plain": [
       "(a*i + c*j)*e + (a*k + c*l)*f + (b*i + d*j)*g + (b*k + d*l)*h"
      ]
     },
     "execution_count": 43,
     "metadata": {},
     "output_type": "execute_result"
    }
   ],
   "source": [
    "tr(C*A*B)"
   ]
  },
  {
   "cell_type": "code",
   "execution_count": 40,
   "id": "8c78522b",
   "metadata": {},
   "outputs": [
    {
     "data": {
      "text/latex": [
       "$$ \\begin{equation}\n",
       "a \\left( e i + f k \\right) + b \\left( g i + h k \\right) + c \\left( e j + f l \\right) + d \\left( g j + h l \\right)\n",
       "\\end{equation}\n",
       " $$"
      ],
      "text/plain": [
       "a*(e*i + f*k) + b*(g*i + h*k) + c*(e*j + f*l) + d*(g*j + h*l)"
      ]
     },
     "execution_count": 40,
     "metadata": {},
     "output_type": "execute_result"
    }
   ],
   "source": [
    "tr(B*C*A)"
   ]
  },
  {
   "cell_type": "markdown",
   "id": "3ec31ab5",
   "metadata": {},
   "source": [
    "### Show the matrix dot product is equal to tr(A^T* B)\n",
    "\n",
    "\n",
    "This confirms our intuition about the element-wise multiplication equaling the tr(A^T) * B.\n",
    "\n",
    "*Would be nice to explain more about the trace operator and some of the properties like cyclic property.* What is my hypothesis on why the trace operator appears so often. \n",
    "\n",
    "Look at this [link](https://math.stackexchange.com/questions/4453933/why-is-the-trace-of-a-matrix-important)."
   ]
  }
 ],
 "metadata": {
  "kernelspec": {
   "display_name": "Python (base)",
   "language": "python",
   "name": "base"
  },
  "language_info": {
   "codemirror_mode": {
    "name": "ipython",
    "version": 3
   },
   "file_extension": ".py",
   "mimetype": "text/x-python",
   "name": "python",
   "nbconvert_exporter": "python",
   "pygments_lexer": "ipython3",
   "version": "3.12.7"
  }
 },
 "nbformat": 4,
 "nbformat_minor": 5
}
