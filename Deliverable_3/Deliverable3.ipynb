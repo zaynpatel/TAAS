{
 "cells": [
  {
   "cell_type": "code",
   "execution_count": 1,
   "id": "344241b3",
   "metadata": {},
   "outputs": [],
   "source": [
    "# Define Julia packages\n",
    "using LinearAlgebra, Symbolics"
   ]
  },
  {
   "cell_type": "code",
   "execution_count": 2,
   "id": "02a3ba5a",
   "metadata": {},
   "outputs": [],
   "source": [
    "# Define Python packages\n",
    "#import numpy as np"
   ]
  },
  {
   "cell_type": "markdown",
   "id": "e9725b72",
   "metadata": {},
   "source": [
    "### Linear transformations as matrices - Python example\n",
    "\n",
    "First, I want to show an example of the linear transformations fact I discussed from [slides 8-13](https://docs.google.com/presentation/d/132NHu6poeLCB606X4BHWjUz9mnr90yY8n7XhCU3Fqb8/edit?usp=sharing). \n",
    "\n",
    "I am defining three matrices A, B, C and a vector, x. At first I am multiplying ABC which we know is a composition equivalent to writing (a(b(c(x))). After multiplying these three matrices I apply this matrix with the variable name, `composition` to the vector x. \n",
    "\n",
    "Then, I change the strategy and multiply the respective matrix (A, B, C) to each output of the previous composition. For example: I multiply C(x) first and assign this a new variable name. Then I multiply B by the new variable name to get *yet* another matrix with a new variable name. Lastly I multiply A by this new matrix. \n",
    "\n",
    "I've used an assert statement to confirm that the output of the two approaches is the same. The first approach, multiply all matrices then apply it to x is my preferred approach. I believe this is also the standard way to do it.\n",
    "\n",
    "Because we established these approaches are the same I will use the first approach in the Jacobian examples. "
   ]
  },
  {
   "cell_type": "code",
   "execution_count": 3,
   "id": "a0e39376",
   "metadata": {},
   "outputs": [],
   "source": [
    "# Define 3 matrices\n",
    "#TODO: Later convert these constants to random ints: np.random.randint(x, y)\n",
    "\n",
    "# m = 3\n",
    "# q = 5\n",
    "# p = 5\n",
    "# n = 4\n",
    "\n",
    "# # Set a seed \n",
    "# np.random.seed(0)\n",
    "\n",
    "# A = np.random.rand(m, q)\n",
    "# B = np.random.rand(q, p)\n",
    "# C = np.random.rand(p, n)\n",
    "# x = np.random.rand(n, 1)"
   ]
  },
  {
   "cell_type": "code",
   "execution_count": 4,
   "id": "6abd4e3e",
   "metadata": {},
   "outputs": [],
   "source": [
    "# composition = A @ B @ C"
   ]
  },
  {
   "cell_type": "code",
   "execution_count": 5,
   "id": "10dca743",
   "metadata": {},
   "outputs": [],
   "source": [
    "# composition @ x"
   ]
  },
  {
   "cell_type": "code",
   "execution_count": 6,
   "id": "9aa06a8c",
   "metadata": {},
   "outputs": [],
   "source": [
    "# c_to_x = C @ x\n",
    "# b_to_Cx = B @ c_to_x\n",
    "# A_to_BCx = A @ b_to_Cx\n",
    "# A_to_BCx"
   ]
  },
  {
   "cell_type": "code",
   "execution_count": 7,
   "id": "efe0fc90",
   "metadata": {},
   "outputs": [],
   "source": [
    "# assert (composition @ x).all() == A_to_BCx.all()"
   ]
  },
  {
   "cell_type": "markdown",
   "id": "fd367171",
   "metadata": {},
   "source": [
    "### Example of f'(x), output of chain rule, being a product of two Jacobians - Julia example\n",
    "\n",
    "On slide 32 of my [Introduction to Matrix Calculus](https://docs.google.com/presentation/d/132NHu6poeLCB606X4BHWjUz9mnr90yY8n7XhCU3Fqb8/edit?usp=sharing) presentation I derive the chain rule on arbitrary vectory spaces. I think it's helpful to see an example of this numerically. The functions in my example below are simple enough that we can compute the derivatives by hand to get more intuition for what's happening if we need. \n",
    "\n",
    "Let's first talk about our desired input and output dimensions. $x$ is a vector in $R^{n}$, $h(x)$ is a function (matrix) in $R^{p}$ and $f(x) = g(h(x))$ maps from $R^{n}$ to $R^{m}$. \n",
    "\n",
    "In the following section I'll refer to our desired \"output\" dimension so let me clarify what this means in a 2x2 example. \n",
    "\n",
    "If I have the matrix A which is a 2 x 2 matrix:\n",
    "\n",
    "\\begin{pmatrix}\n",
    "a & b\\\\\n",
    "c & d\n",
    "\\end{pmatrix}\n",
    "\n",
    "and a vector x which 2 x 1:\n",
    "\n",
    "\\begin{pmatrix} x \\\\ y \\end{pmatrix}\n",
    "\n",
    "The matrix-vector multiplication dimensions are 2 x 2 (m x n) @ (2 x 1) (n x 1). So, in the language I'll use below, n is the input dimension and m is the output dimension. I am calling n the input because if we think back to linear transformations as matrices where A(x) = b, x is obviously the input to the function A and its dimensions are n x 1. \n",
    "\n",
    "$f'(x)$ is in the output dimension $R^{m}$ so we know $f'(x)$ is an m x n matrix. We also know $h(x)$ is in $R^{p}$ and its derivative $h'(x)$ is also in $R^{p}$ so h'(x) is a p x n matrix. Here, again, p is the output dimension. Therefore it follows that if m x n is our output and $h'(x)$ is p x n then $g'(x)$ is an m x p matrix. \n",
    "\n",
    "Given our knowledge that these primed matrices are Jacobians we can say that $f'(x)$, a Jacobian output is the product of an m x p Jacobian and a p x n Jacobian. \n",
    "\n",
    "---\n",
    "\n",
    "In the code below I am using Julia's [ForwardDiff package](https://juliadiff.org/ForwardDiff.jl/stable/#:~:text=ForwardDiff%20implements%20methods%20to%20take,mode%20automatic%20differentiation%20(AD). The first function `z(x)` looks like the following in vector-valued function notation:\n",
    "\n",
    "\\begin{pmatrix}\n",
    "x_{1}^{2} + x_{2}\\\\\n",
    "x_{1}x_{2}\n",
    "\\end{pmatrix}\n",
    "\n",
    "and the second function `w(y)` is:\n",
    "\n",
    "\\begin{pmatrix}\n",
    "sin_{y1} + y_{2}\\\\\n",
    "y_{1}y_{2}\n",
    "\\end{pmatrix}\n",
    "\n",
    "Then, after defining x (the point we'd like to take partial derivatives with respect to) and evaluating z(x) at this point, I begin taking Jacobians. The reader can refer to slide 27 in [Introduction to Matrix Calculus](https://docs.google.com/presentation/d/132NHu6poeLCB606X4BHWjUz9mnr90yY8n7XhCU3Fqb8/edit?usp=sharing) to recall how to do these by hand and confirm the answers. "
   ]
  },
  {
   "cell_type": "code",
   "execution_count": 8,
   "id": "47807881",
   "metadata": {},
   "outputs": [],
   "source": [
    "using ForwardDiff"
   ]
  },
  {
   "cell_type": "code",
   "execution_count": 9,
   "id": "a1108962",
   "metadata": {},
   "outputs": [
    {
     "data": {
      "text/plain": [
       "z (generic function with 1 method)"
      ]
     },
     "execution_count": 9,
     "metadata": {},
     "output_type": "execute_result"
    }
   ],
   "source": [
    "function z(x)\n",
    "    return [x[1]^2 + x[2]\n",
    "        x[1] * x[2]]\n",
    "end"
   ]
  },
  {
   "cell_type": "code",
   "execution_count": 10,
   "id": "c04be13e",
   "metadata": {},
   "outputs": [
    {
     "data": {
      "text/plain": [
       "w (generic function with 1 method)"
      ]
     },
     "execution_count": 10,
     "metadata": {},
     "output_type": "execute_result"
    }
   ],
   "source": [
    "function w(y)\n",
    "    return [sin(y[1]) + y[2],\n",
    "    y[1] * y[2]]\n",
    "end"
   ]
  },
  {
   "cell_type": "code",
   "execution_count": 11,
   "id": "d8f97591",
   "metadata": {},
   "outputs": [
    {
     "data": {
      "text/plain": [
       "2-element Vector{Float64}:\n",
       " 1.0\n",
       " 2.0"
      ]
     },
     "execution_count": 11,
     "metadata": {},
     "output_type": "execute_result"
    }
   ],
   "source": [
    "x = [1.0, 2.0]"
   ]
  },
  {
   "cell_type": "code",
   "execution_count": 12,
   "id": "8bdcc04a",
   "metadata": {},
   "outputs": [
    {
     "data": {
      "text/plain": [
       "2-element Vector{Float64}:\n",
       " 3.0\n",
       " 2.0"
      ]
     },
     "execution_count": 12,
     "metadata": {},
     "output_type": "execute_result"
    }
   ],
   "source": [
    "zx = z(x)"
   ]
  },
  {
   "cell_type": "code",
   "execution_count": 13,
   "id": "5727dafc",
   "metadata": {},
   "outputs": [
    {
     "data": {
      "text/plain": [
       "2×2 Matrix{Float64}:\n",
       " 2.0  1.0\n",
       " 2.0  1.0"
      ]
     },
     "execution_count": 13,
     "metadata": {},
     "output_type": "execute_result"
    }
   ],
   "source": [
    "Dhx = ForwardDiff.jacobian(z, x)"
   ]
  },
  {
   "cell_type": "code",
   "execution_count": 14,
   "id": "84a33af8",
   "metadata": {},
   "outputs": [
    {
     "data": {
      "text/plain": [
       "2×2 Matrix{Float64}:\n",
       " -0.989992  1.0\n",
       "  2.0       3.0"
      ]
     },
     "execution_count": 14,
     "metadata": {},
     "output_type": "execute_result"
    }
   ],
   "source": [
    "Dghx = ForwardDiff.jacobian(w, zx)"
   ]
  },
  {
   "cell_type": "code",
   "execution_count": 15,
   "id": "aa5ee927",
   "metadata": {},
   "outputs": [
    {
     "data": {
      "text/plain": [
       "2×2 Matrix{Float64}:\n",
       "  0.020015  0.0100075\n",
       " 10.0       5.0"
      ]
     },
     "execution_count": 15,
     "metadata": {},
     "output_type": "execute_result"
    }
   ],
   "source": [
    "J_composed = Dghx * Dhx"
   ]
  },
  {
   "cell_type": "markdown",
   "id": "cef4ee7e",
   "metadata": {},
   "source": [
    "### Symbolic Jacobians in Symbolic Kronecker Product notation - Julia\n",
    "\n",
    "The goal of this section is to develop a notation to write the Jacobian without having to write the Jacobian. This notation is called the Kronecker product. \n",
    "\n",
    "You may be asking: \"Why would we want to do this?\" It seems there are two reasons for this. First, it's simpler. As we will see we can write the Jacobian as a sum of two Kronecker products without needing to think about partial derivatives at all. Second, the Jacobian is sometimes computationally inefficient (the Kronecker product is too) and we'll want to adopt a different way to compute this. \n",
    "\n",
    "In order to understand the Kronecker product we will need to first understand matrix \"vectorization.\" Let's also define and see an example of the Kronecker product. \n",
    "\n",
    "The first code block below defines a 2 x 2 matrix X. These dimensions (m x n) are important because the dimensions of our vectorized matrix will be mn x 1. Vectorizing a matrix stacks the columns on top of each other.\n",
    "\n",
    "Next, let's define the Kronecker product. \n",
    "\n",
    "> If A is an m x n matrix with entries $a_{ij}$ and B is a p x q matrix with entries $b_{ij}$ then their Kronecker product A ⊗ B is an mp x nq matrix. The Kronecker product takes each entry of A and multiplies it by the matrix B s.t the resultant matrix has \"all combinations of A's entries with the matrix B.\"\n",
    "\n",
    "The example in the fourth code block below shows the definition clearly. The $X_{11}$ entry, **a** is multiplied by every letter in Z and this populates a mini 2x2 in `kron(X, Z)`. Perhaps one way to think about the Kronecker product, using the definition, is as a scalar multiplication of each $A_{ij}$ entry with B s.t. the result is an appropriately sized matrix in the Kronecker product output. The numerical example `kron(T, U)` shows this scalar multiplication perspective. \n",
    "\n",
    "Slides 45 - 49 of my [Introduction to Matrix Calculus](https://docs.google.com/presentation/d/132NHu6poeLCB606X4BHWjUz9mnr90yY8n7XhCU3Fqb8/edit?usp=sharing) presentation shares the linear operator perspective of the derivative of $A^{2}$ and I have included a dX variable and multiplied the Jacobian by dX and computed the X * dX + dX X form so you can see these are the same. \n",
    "\n",
    "In slides 52 through the end of the presentation we connect Jacobians to Kronecker Products. In the code blocks below, especially for the $d(A^{3})$ you can see the Jacobian and Kronecker Product giving the same answer.  "
   ]
  },
  {
   "cell_type": "code",
   "execution_count": 16,
   "id": "d665647e",
   "metadata": {},
   "outputs": [
    {
     "data": {
      "text/latex": [
       "$$ \\begin{equation}\n",
       "\\left[\n",
       "\\begin{array}{cc}\n",
       "a & b \\\\\n",
       "c & d \\\\\n",
       "\\end{array}\n",
       "\\right]\n",
       "\\end{equation}\n",
       " $$"
      ],
      "text/plain": [
       "2×2 Matrix{Num}:\n",
       " a  b\n",
       " c  d"
      ]
     },
     "execution_count": 16,
     "metadata": {},
     "output_type": "execute_result"
    }
   ],
   "source": [
    "# Define variables\n",
    "@variables a, b, c, d\n",
    "\n",
    "X = [a b; c d]"
   ]
  },
  {
   "cell_type": "code",
   "execution_count": 17,
   "id": "31b7154f",
   "metadata": {},
   "outputs": [
    {
     "data": {
      "text/latex": [
       "$$ \\begin{equation}\n",
       "\\left[\n",
       "\\begin{array}{c}\n",
       "a \\\\\n",
       "c \\\\\n",
       "b \\\\\n",
       "d \\\\\n",
       "\\end{array}\n",
       "\\right]\n",
       "\\end{equation}\n",
       " $$"
      ],
      "text/plain": [
       "4-element Vector{Num}:\n",
       " a\n",
       " c\n",
       " b\n",
       " d"
      ]
     },
     "execution_count": 17,
     "metadata": {},
     "output_type": "execute_result"
    }
   ],
   "source": [
    "# Vec the 2x2 matrix -> 4 x 1 vector\n",
    "\n",
    "vec(X)"
   ]
  },
  {
   "cell_type": "code",
   "execution_count": 18,
   "id": "578cdce3",
   "metadata": {},
   "outputs": [
    {
     "data": {
      "text/latex": [
       "$$ \\begin{equation}\n",
       "\\left[\n",
       "\\begin{array}{cc}\n",
       "l & m \\\\\n",
       "n & o \\\\\n",
       "\\end{array}\n",
       "\\right]\n",
       "\\end{equation}\n",
       " $$"
      ],
      "text/plain": [
       "2×2 Matrix{Num}:\n",
       " l  m\n",
       " n  o"
      ]
     },
     "execution_count": 18,
     "metadata": {},
     "output_type": "execute_result"
    }
   ],
   "source": [
    "# First symbolic example of Kronecker products\n",
    "@variables l, m, n, o\n",
    "\n",
    "Z = [l m; n o]"
   ]
  },
  {
   "cell_type": "code",
   "execution_count": 19,
   "id": "24e6b3fc",
   "metadata": {},
   "outputs": [
    {
     "data": {
      "text/latex": [
       "$$ \\begin{equation}\n",
       "\\left[\n",
       "\\begin{array}{cccc}\n",
       "a l & a m & b l & b m \\\\\n",
       "a n & a o & b n & b o \\\\\n",
       "c l & c m & d l & d m \\\\\n",
       "c n & c o & d n & d o \\\\\n",
       "\\end{array}\n",
       "\\right]\n",
       "\\end{equation}\n",
       " $$"
      ],
      "text/plain": [
       "4×4 Matrix{Num}:\n",
       " a*l  a*m  b*l  b*m\n",
       " a*n  a*o  b*n  b*o\n",
       " c*l  c*m  d*l  d*m\n",
       " c*n  c*o  d*n  d*o"
      ]
     },
     "execution_count": 19,
     "metadata": {},
     "output_type": "execute_result"
    }
   ],
   "source": [
    "kron(X, Z)"
   ]
  },
  {
   "cell_type": "code",
   "execution_count": 20,
   "id": "c35a536b",
   "metadata": {},
   "outputs": [
    {
     "data": {
      "text/plain": [
       "2×2 Matrix{Int64}:\n",
       " 1  2\n",
       " 3  6"
      ]
     },
     "execution_count": 20,
     "metadata": {},
     "output_type": "execute_result"
    }
   ],
   "source": [
    "T = [1 2; 3 6]"
   ]
  },
  {
   "cell_type": "code",
   "execution_count": 21,
   "id": "210cac75",
   "metadata": {},
   "outputs": [
    {
     "data": {
      "text/plain": [
       "2×2 Matrix{Int64}:\n",
       " 10  20\n",
       " 30  40"
      ]
     },
     "execution_count": 21,
     "metadata": {},
     "output_type": "execute_result"
    }
   ],
   "source": [
    "U = [10 20; 30 40]"
   ]
  },
  {
   "cell_type": "code",
   "execution_count": 22,
   "id": "4db842a6",
   "metadata": {},
   "outputs": [
    {
     "data": {
      "text/plain": [
       "4×4 Matrix{Int64}:\n",
       " 10   20   20   40\n",
       " 30   40   60   80\n",
       " 30   60   60  120\n",
       " 90  120  180  240"
      ]
     },
     "execution_count": 22,
     "metadata": {},
     "output_type": "execute_result"
    }
   ],
   "source": [
    "kron(T, U)"
   ]
  },
  {
   "cell_type": "code",
   "execution_count": 23,
   "id": "aa55822a",
   "metadata": {},
   "outputs": [
    {
     "data": {
      "text/latex": [
       "$$ \\begin{equation}\n",
       "\\left[\n",
       "\\begin{array}{cc}\n",
       "a^{2} + b c & a b + b d \\\\\n",
       "a c + c d & b c + d^{2} \\\\\n",
       "\\end{array}\n",
       "\\right]\n",
       "\\end{equation}\n",
       " $$"
      ],
      "text/plain": [
       "2×2 Matrix{Num}:\n",
       " a^2 + b*c  a*b + b*d\n",
       " a*c + c*d  b*c + d^2"
      ]
     },
     "execution_count": 23,
     "metadata": {},
     "output_type": "execute_result"
    }
   ],
   "source": [
    "X^2"
   ]
  },
  {
   "cell_type": "code",
   "execution_count": 24,
   "id": "18b76f17",
   "metadata": {},
   "outputs": [
    {
     "data": {
      "text/plain": [
       "jac (generic function with 1 method)"
      ]
     },
     "execution_count": 24,
     "metadata": {},
     "output_type": "execute_result"
    }
   ],
   "source": [
    "# Take the Jacobian of Y, vector valued function, with respect to parameters in X?\n",
    "\n",
    "jac(Y, X) = Symbolics.jacobian(vec(Y), vec(X))"
   ]
  },
  {
   "cell_type": "code",
   "execution_count": 25,
   "id": "f60a2f10",
   "metadata": {},
   "outputs": [
    {
     "data": {
      "text/latex": [
       "$$ \\begin{equation}\n",
       "\\left[\n",
       "\\begin{array}{cccc}\n",
       "2 a & b & c & 0 \\\\\n",
       "c & a + d & 0 & c \\\\\n",
       "b & 0 & a + d & b \\\\\n",
       "0 & b & c & 2 d \\\\\n",
       "\\end{array}\n",
       "\\right]\n",
       "\\end{equation}\n",
       " $$"
      ],
      "text/plain": [
       "4×4 Matrix{Num}:\n",
       " 2a      b      c   0\n",
       "  c  a + d      0   c\n",
       "  b      0  a + d   b\n",
       "  0      b      c  2d"
      ]
     },
     "execution_count": 25,
     "metadata": {},
     "output_type": "execute_result"
    }
   ],
   "source": [
    "# I think we would get the same answer if we took the Jacobian by hand. Right, the partial derivatives...\n",
    "# ... of each term in X^2 are in the first row. 1,1 entry of X^2 is the first row of J\n",
    "# ... and 2,1 entry of X^2 is the second row of J, etc. \n",
    "\n",
    "J = jac(X^2, X)"
   ]
  },
  {
   "cell_type": "code",
   "execution_count": 26,
   "id": "fdd0efb8",
   "metadata": {},
   "outputs": [
    {
     "data": {
      "text/latex": [
       "$$ \\begin{equation}\n",
       "\\left[\n",
       "\\begin{array}{c}\n",
       "\\mathtt{dp} \\\\\n",
       "\\mathtt{dq} \\\\\n",
       "\\mathtt{dr} \\\\\n",
       "\\mathtt{ds} \\\\\n",
       "\\end{array}\n",
       "\\right]\n",
       "\\end{equation}\n",
       " $$"
      ],
      "text/plain": [
       "4-element Vector{Num}:\n",
       " dp\n",
       " dq\n",
       " dr\n",
       " ds"
      ]
     },
     "execution_count": 26,
     "metadata": {},
     "output_type": "execute_result"
    }
   ],
   "source": [
    "@variables dp, dq, dr, ds\n",
    "\n",
    "dX = [dp dr; dq ds]\n",
    "vec(dX)"
   ]
  },
  {
   "cell_type": "code",
   "execution_count": 27,
   "id": "3419933d",
   "metadata": {},
   "outputs": [
    {
     "data": {
      "text/latex": [
       "$$ \\begin{equation}\n",
       "\\left[\n",
       "\\begin{array}{c}\n",
       "2 a \\mathtt{dp} + b \\mathtt{dq} + c \\mathtt{dr} \\\\\n",
       "a \\mathtt{dq} + c \\mathtt{dp} + c \\mathtt{ds} + d \\mathtt{dq} \\\\\n",
       "a \\mathtt{dr} + b \\mathtt{dp} + b \\mathtt{ds} + d \\mathtt{dr} \\\\\n",
       "b \\mathtt{dq} + c \\mathtt{dr} + 2 d \\mathtt{ds} \\\\\n",
       "\\end{array}\n",
       "\\right]\n",
       "\\end{equation}\n",
       " $$"
      ],
      "text/plain": [
       "4-element Vector{Num}:\n",
       "       2a*dp + b*dq + c*dr\n",
       " a*dq + c*dp + c*ds + d*dq\n",
       " a*dr + b*dp + b*ds + d*dr\n",
       "       b*dq + c*dr + 2d*ds"
      ]
     },
     "execution_count": 27,
     "metadata": {},
     "output_type": "execute_result"
    }
   ],
   "source": [
    "vec(dX * X + X * dX)"
   ]
  },
  {
   "cell_type": "code",
   "execution_count": 28,
   "id": "b8c81205",
   "metadata": {},
   "outputs": [
    {
     "data": {
      "text/latex": [
       "$$ \\begin{equation}\n",
       "\\left[\n",
       "\\begin{array}{c}\n",
       "2 a \\mathtt{dp} + b \\mathtt{dq} + c \\mathtt{dr} \\\\\n",
       "\\left( a + d \\right) \\mathtt{dq} + c \\mathtt{dp} + c \\mathtt{ds} \\\\\n",
       "\\left( a + d \\right) \\mathtt{dr} + b \\mathtt{dp} + b \\mathtt{ds} \\\\\n",
       "b \\mathtt{dq} + c \\mathtt{dr} + 2 d \\mathtt{ds} \\\\\n",
       "\\end{array}\n",
       "\\right]\n",
       "\\end{equation}\n",
       " $$"
      ],
      "text/plain": [
       "4-element Vector{Num}:\n",
       "      2a*dp + b*dq + c*dr\n",
       " (a + d)*dq + c*dp + c*ds\n",
       " (a + d)*dr + b*dp + b*ds\n",
       "      b*dq + c*dr + 2d*ds"
      ]
     },
     "execution_count": 28,
     "metadata": {},
     "output_type": "execute_result"
    }
   ],
   "source": [
    "J * vec(dX)"
   ]
  },
  {
   "cell_type": "code",
   "execution_count": 29,
   "id": "84316a36",
   "metadata": {},
   "outputs": [
    {
     "data": {
      "text/latex": [
       "$$ \\begin{equation}\n",
       "\\left[\n",
       "\\begin{array}{cccc}\n",
       "2 a & b & c & 0 \\\\\n",
       "c & a + d & 0 & c \\\\\n",
       "b & 0 & a + d & b \\\\\n",
       "0 & b & c & 2 d \\\\\n",
       "\\end{array}\n",
       "\\right]\n",
       "\\end{equation}\n",
       " $$"
      ],
      "text/plain": [
       "4×4 Matrix{Num}:\n",
       " 2a      b      c   0\n",
       "  c  a + d      0   c\n",
       "  b      0  a + d   b\n",
       "  0      b      c  2d"
      ]
     },
     "execution_count": 29,
     "metadata": {},
     "output_type": "execute_result"
    }
   ],
   "source": [
    "begin \n",
    "    I2 = [1 0; 0 1]\n",
    "    K = kron(I2,X) + kron(X', I2)\n",
    "end"
   ]
  },
  {
   "cell_type": "code",
   "execution_count": 30,
   "id": "188dd5bb",
   "metadata": {},
   "outputs": [
    {
     "data": {
      "text/plain": [
       "jac (generic function with 1 method)"
      ]
     },
     "execution_count": 30,
     "metadata": {},
     "output_type": "execute_result"
    }
   ],
   "source": [
    "jac(Y, X) = Symbolics.jacobian(vec(Y), vec(X))"
   ]
  },
  {
   "cell_type": "code",
   "execution_count": 31,
   "id": "b18c80fd",
   "metadata": {},
   "outputs": [
    {
     "data": {
      "text/latex": [
       "$$ \\begin{equation}\n",
       "\\left[\n",
       "\\begin{array}{cccc}\n",
       "3 a^{2} + 2 b c & a b + \\left( a + d \\right) b & 2 a c + c d & b c \\\\\n",
       "2 a c + c d & a^{2} + \\left( a + d \\right) d + 2 b c & c^{2} & a c + 2 c d \\\\\n",
       "2 a b + b d & b^{2} & a \\left( a + d \\right) + 2 b c + d^{2} & a b + 2 b d \\\\\n",
       "b c & a b + 2 b d & \\left( a + d \\right) c + c d & 2 b c + 3 d^{2} \\\\\n",
       "\\end{array}\n",
       "\\right]\n",
       "\\end{equation}\n",
       " $$"
      ],
      "text/plain": [
       "4×4 Matrix{Num}:\n",
       " 3(a^2) + 2b*c         a*b + (a + d)*b              2a*c + c*d            b*c\n",
       "    2a*c + c*d  a^2 + (a + d)*d + 2b*c                     c^2     a*c + 2c*d\n",
       "    2a*b + b*d                     b^2  a*(a + d) + 2b*c + d^2     a*b + 2b*d\n",
       "           b*c              a*b + 2b*d         (a + d)*c + c*d  2b*c + 3(d^2)"
      ]
     },
     "execution_count": 31,
     "metadata": {},
     "output_type": "execute_result"
    }
   ],
   "source": [
    "# Jacobian of X^3\n",
    "J_2 = jac(X^3, X)"
   ]
  },
  {
   "cell_type": "code",
   "execution_count": 32,
   "id": "71c2bf9f",
   "metadata": {},
   "outputs": [
    {
     "data": {
      "text/latex": [
       "$$ \\begin{equation}\n",
       "\\left[\n",
       "\\begin{array}{cc}\n",
       "a^{2} + b c & a b + b d \\\\\n",
       "a c + c d & b c + d^{2} \\\\\n",
       "\\end{array}\n",
       "\\right]\n",
       "\\end{equation}\n",
       " $$"
      ],
      "text/plain": [
       "2×2 Matrix{Num}:\n",
       " a^2 + b*c  a*b + b*d\n",
       " a*c + c*d  b*c + d^2"
      ]
     },
     "execution_count": 32,
     "metadata": {},
     "output_type": "execute_result"
    }
   ],
   "source": [
    "X2 = X^2"
   ]
  },
  {
   "cell_type": "code",
   "execution_count": 33,
   "id": "b7fa7524",
   "metadata": {},
   "outputs": [
    {
     "data": {
      "text/latex": [
       "$$ \\begin{equation}\n",
       "\\left[\n",
       "\\begin{array}{cccc}\n",
       "3 a^{2} + 2 b c & 2 a b + b d & 2 a c + c d & b c \\\\\n",
       "2 a c + c d & a^{2} + a d + 2 b c + d^{2} & c^{2} & a c + 2 c d \\\\\n",
       "2 a b + b d & b^{2} & a^{2} + a d + 2 b c + d^{2} & a b + 2 b d \\\\\n",
       "b c & a b + 2 b d & a c + 2 c d & 2 b c + 3 d^{2} \\\\\n",
       "\\end{array}\n",
       "\\right]\n",
       "\\end{equation}\n",
       " $$"
      ],
      "text/plain": [
       "4×4 Matrix{Num}:\n",
       " 3(a^2) + 2b*c              2a*b + b*d              2a*c + c*d            b*c\n",
       "    2a*c + c*d  a^2 + a*d + 2b*c + d^2                     c^2     a*c + 2c*d\n",
       "    2a*b + b*d                     b^2  a^2 + a*d + 2b*c + d^2     a*b + 2b*d\n",
       "           b*c              a*b + 2b*d              a*c + 2c*d  2b*c + 3(d^2)"
      ]
     },
     "execution_count": 33,
     "metadata": {},
     "output_type": "execute_result"
    }
   ],
   "source": [
    "begin\n",
    "    kron(I2, X2) + kron(X', X) + kron(X2', I2)\n",
    "end"
   ]
  },
  {
   "cell_type": "code",
   "execution_count": 34,
   "id": "fb6640a6",
   "metadata": {},
   "outputs": [
    {
     "data": {
      "text/latex": [
       "$$ \\begin{equation}\n",
       "\\left[\n",
       "\\begin{array}{c}\n",
       "2 a \\mathtt{dp} + b \\mathtt{dq} + c \\mathtt{dr} \\\\\n",
       "a \\mathtt{dq} + c \\mathtt{dp} + c \\mathtt{ds} + d \\mathtt{dq} \\\\\n",
       "a \\mathtt{dr} + b \\mathtt{dp} + b \\mathtt{ds} + d \\mathtt{dr} \\\\\n",
       "b \\mathtt{dq} + c \\mathtt{dr} + 2 d \\mathtt{ds} \\\\\n",
       "\\end{array}\n",
       "\\right]\n",
       "\\end{equation}\n",
       " $$"
      ],
      "text/plain": [
       "4-element Vector{Num}:\n",
       "       2a*dp + b*dq + c*dr\n",
       " a*dq + c*dp + c*ds + d*dq\n",
       " a*dr + b*dp + b*ds + d*dr\n",
       "       b*dq + c*dr + 2d*ds"
      ]
     },
     "execution_count": 34,
     "metadata": {},
     "output_type": "execute_result"
    }
   ],
   "source": [
    "# Convince myself that the vec() operator is necessary for the notation on slide 71 and elsewhere\n",
    "vec(X*dX*I2 + I2*dX*X)"
   ]
  },
  {
   "cell_type": "code",
   "execution_count": 35,
   "id": "09d4b569",
   "metadata": {},
   "outputs": [
    {
     "data": {
      "text/latex": [
       "$$ \\begin{equation}\n",
       "\\left[\n",
       "\\begin{array}{c}\n",
       "2 a \\mathtt{dp} + b \\mathtt{dq} + c \\mathtt{dr} \\\\\n",
       "\\left( a + d \\right) \\mathtt{dq} + c \\mathtt{dp} + c \\mathtt{ds} \\\\\n",
       "\\left( a + d \\right) \\mathtt{dr} + b \\mathtt{dp} + b \\mathtt{ds} \\\\\n",
       "b \\mathtt{dq} + c \\mathtt{dr} + 2 d \\mathtt{ds} \\\\\n",
       "\\end{array}\n",
       "\\right]\n",
       "\\end{equation}\n",
       " $$"
      ],
      "text/plain": [
       "4-element Vector{Num}:\n",
       "      2a*dp + b*dq + c*dr\n",
       " (a + d)*dq + c*dp + c*ds\n",
       " (a + d)*dr + b*dp + b*ds\n",
       "      b*dq + c*dr + 2d*ds"
      ]
     },
     "execution_count": 35,
     "metadata": {},
     "output_type": "execute_result"
    }
   ],
   "source": [
    "K * vec(dX)"
   ]
  }
 ],
 "metadata": {
  "kernelspec": {
   "display_name": "Julia 1.11.5",
   "language": "julia",
   "name": "julia-1.11"
  },
  "language_info": {
   "file_extension": ".jl",
   "mimetype": "application/julia",
   "name": "julia",
   "version": "1.11.5"
  }
 },
 "nbformat": 4,
 "nbformat_minor": 5
}
